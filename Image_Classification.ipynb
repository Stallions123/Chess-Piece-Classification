{
 "cells": [
  {
   "cell_type": "code",
   "execution_count": 1,
   "id": "c32eefb3",
   "metadata": {},
   "outputs": [],
   "source": [
    "#Importing the library\n",
    "from keras.applications.vgg16 import VGG16\n",
    "from keras.applications.vgg19 import VGG19\n",
    "from tensorflow.keras.applications.resnet50 import ResNet50\n",
    "from sklearn.metrics import confusion_matrix , classification_report ,accuracy_score\n",
    "from keras.applications.vgg16 import preprocess_input\n",
    "from tensorflow.keras.applications.inception_v3 import InceptionV3\n",
    "from keras.preprocessing import image\n",
    "from tensorflow.keras.layers import Input, Lambda, Dense, Flatten\n",
    "from tensorflow.keras.models import Model\n",
    "from tensorflow.keras.applications.inception_v3 import InceptionV3\n",
    "from tensorflow.keras.applications.inception_v3 import preprocess_input\n",
    "from tensorflow.keras.preprocessing import image\n",
    "from tensorflow.keras.preprocessing.image import ImageDataGenerator,load_img\n",
    "from tensorflow.keras.models import Sequential\n",
    "import numpy as np\n",
    "from glob import glob\n",
    "import cv2\n",
    "import os\n",
    "import matplotlib.pyplot as plt\n",
    "import tensorflow as tf"
   ]
  },
  {
   "cell_type": "markdown",
   "id": "5b088abf",
   "metadata": {},
   "source": [
    "# Image Preprocessing"
   ]
  },
  {
   "cell_type": "code",
   "execution_count": 1,
   "id": "3c625aa2",
   "metadata": {},
   "outputs": [],
   "source": [
    "#Data Preprocessing by applying several transformation to create different forms of the same picture to make the model robust.\n",
    "\n",
    "def preprocess(path, fold):\n",
    "    for file in os.listdir(path):\n",
    "        #print(file)\n",
    "        \n",
    "        src = cv2.imread(path+\"/\"+file, cv2.IMREAD_UNCHANGED)\n",
    "        #image blurring\n",
    "        blurImg = cv2.blur(src, (20,20))\n",
    "        #writing the image to the new folder\n",
    "        cv2.imwrite(path_assignment+fold+\"/\"+ 'blur_'+file, blurImg)\n",
    "        \n",
    "        #adding noise\n",
    "        row, col, channels = src.shape\n",
    "        noiseImg = src\n",
    "        no_of_pix = random.randint(300, 10000)\n",
    "        #changing random number of pixels to white\n",
    "        for i in range(no_of_pix):\n",
    "            y = random.randint(0, row-1)\n",
    "            x = random.randint(0, col-1)\n",
    "            noiseImg[y][x] = 255\n",
    "        #changing random number of pixels to black\n",
    "        no_of_pix = random.randint(300, 10000)\n",
    "        for i in range(no_of_pix):\n",
    "            y = random.randint(0, row-1)\n",
    "            x = random.randint(0, col-1)\n",
    "            noiseImg[y][x] = 0\n",
    "        \n",
    "        cv2.imwrite(path_assignment+fold + '/noise_'+file, noiseImg)\n",
    "        \n",
    "        \n",
    "        src = cv2.imread(path+\"/\"+file, cv2.IMREAD_UNCHANGED)\n",
    "        \n",
    "        \n",
    "        #edge detection using Canny edge detection\n",
    "        edgeImg = cv2.Canny(src, 100, 200)\n",
    "        \n",
    "        cv2.imwrite(path_assignment + fold+'/edge_'+file, edgeImg)\n",
    "        \n",
    "        #inverting colour of an image\n",
    "        invertImg = cv2.bitwise_not(src)\n",
    "        \n",
    "        cv2.imwrite(path_assignment +fold+ '/invert_'+file, invertImg)"
   ]
  },
  {
   "cell_type": "code",
   "execution_count": null,
   "id": "0d07541b",
   "metadata": {},
   "outputs": [],
   "source": [
    "#Code to save the edge transformed file to the particular folder\n",
    "path = 'C:/Users/RUPAK/OneDrive/Desktop/Assignment/loopr_vit_dse_assignment_data/'\n",
    "path_assignment = 'C:/Users/RUPAK/OneDrive/Desktop/Assignment/loopr_vit_dse_assignment_data/'\n",
    "new_fold_list = ['bishop', 'knight', 'pawn', 'queen', 'rook']\n",
    "list_resized = ['bishop_resized','knight-resize', 'pawn_resized','queen-resized','rook-resize']\n",
    "for items, fold in zip(list_resized, new_fold_list):\n",
    "    preprocess(path+items, fold)"
   ]
  },
  {
   "cell_type": "code",
   "execution_count": 5,
   "id": "7180253c",
   "metadata": {},
   "outputs": [
    {
     "data": {
      "image/png": "[encoded data removed]",
      "text/plain": [
       "<Figure size 576x576 with 1 Axes>"
      ]
     },
     "metadata": {
      "needs_background": "light"
     },
     "output_type": "display_data"
    }
   ],
   "source": [
    "# useful for getting number of output classes\n",
    "bishop = len(glob('edge_folder/bishop_resized_edge/*'))\n",
    "knight = len(glob('edge_folder/knight_resize_edge/*'))\n",
    "pawn = len(glob('edge_folder/pawn_resized_edge/*'))\n",
    "queen = len(glob('edge_folder/queen_resized_edge/*'))\n",
    "rook = len(glob('edge_folder/rook_resize_edge/*'))\n",
    "\n",
    "\n",
    "#Storing the vatiables in a list\n",
    "chessman = [bishop,knight,pawn,queen,rook]\n",
    "chessman\n",
    "cheese_dic = ['bishop','knight','pawn','queen','rook']\n",
    "\n",
    "\n",
    "#As you can see that knight is having the highest frequency followed by bishop\n",
    "plt.figure(figsize=(8, 8))\n",
    "plt.bar(range(len(cheese_dic)), chessman, color=\"blue\")\n",
    "plt.xticks(range(len(cheese_dic)), ('bishop','knight','pawn','queen','rook'))\n",
    "plt.show()"
   ]
  },
  {
   "cell_type": "markdown",
   "id": "1d2c19cd",
   "metadata": {},
   "source": [
    "# Load the dataset"
   ]
  },
  {
   "cell_type": "code",
   "execution_count": 7,
   "id": "7375a03d",
   "metadata": {},
   "outputs": [],
   "source": [
    "#Setting the image size which is predefined and mentining the train and valis path\n",
    "IMAGE_SIZE = [224,224]\n",
    "train_path = 'tranformed_split_images_upd_1/train'\n",
    "valid_path = 'tranformed_split_images_upd_1/val'"
   ]
  },
  {
   "cell_type": "markdown",
   "id": "3d47007e",
   "metadata": {},
   "source": [
    "# Implementation Of VGG16"
   ]
  },
  {
   "cell_type": "code",
   "execution_count": 8,
   "id": "0b30b4d9",
   "metadata": {},
   "outputs": [],
   "source": [
    "#Importing the pretrained model\n",
    "vgg16 = VGG16(input_shape=IMAGE_SIZE + [3], weights='imagenet', include_top=False)"
   ]
  },
  {
   "cell_type": "code",
   "execution_count": 9,
   "id": "91e28ba2",
   "metadata": {},
   "outputs": [],
   "source": [
    "#don't train existing weights\n",
    "for layer in vgg16.layers:\n",
    "    layer.trainable = False"
   ]
  },
  {
   "cell_type": "code",
   "execution_count": 10,
   "id": "81e350e4",
   "metadata": {},
   "outputs": [],
   "source": [
    "# useful for getting number of output classes\n",
    "folders = glob('tranformed_split_images_upd_1/train/*')"
   ]
  },
  {
   "cell_type": "code",
   "execution_count": 11,
   "id": "04b7b726",
   "metadata": {},
   "outputs": [],
   "source": [
    "# our layers - you can add more if you want\n",
    "x = Flatten()(vgg16.output)"
   ]
  },
  {
   "cell_type": "code",
   "execution_count": 12,
   "id": "d2ffb2c8",
   "metadata": {},
   "outputs": [],
   "source": [
    "prediction = Dense(len(folders), activation='softmax')(x)\n",
    "\n",
    "# create a model object\n",
    "model_vgg16 = Model(inputs=vgg16.input, outputs=prediction)"
   ]
  },
  {
   "cell_type": "code",
   "execution_count": 13,
   "id": "135b10fc",
   "metadata": {},
   "outputs": [],
   "source": [
    "#Compiling the model\n",
    "model_vgg16.compile(\n",
    "  loss='categorical_crossentropy',\n",
    "  optimizer='adam',\n",
    "  metrics=['accuracy']\n",
    ")"
   ]
  },
  {
   "cell_type": "code",
   "execution_count": 14,
   "id": "e9e99655",
   "metadata": {},
   "outputs": [],
   "source": [
    "# Use the Image Data Generator to import the images from the dataset\n",
    "from tensorflow.keras.preprocessing.image import ImageDataGenerator\n",
    "\n",
    "train_datagen = ImageDataGenerator(rescale = 1./255,\n",
    "                                   horizontal_flip = True)\n",
    "\n",
    "test_datagen = ImageDataGenerator(rescale = 1./255)"
   ]
  },
  {
   "cell_type": "code",
   "execution_count": 15,
   "id": "07780762",
   "metadata": {},
   "outputs": [
    {
     "name": "stdout",
     "output_type": "stream",
     "text": [
      "Found 2534 images belonging to 5 classes.\n"
     ]
    }
   ],
   "source": [
    "# Make sure you provide the same target size as initialied for the image size\n",
    "training_set = train_datagen.flow_from_directory('tranformed_split_images_upd_1/train',\n",
    "                                                 target_size = (224,224),\n",
    "                                                 batch_size = 32,\n",
    "                                                 class_mode = 'categorical')"
   ]
  },
  {
   "cell_type": "code",
   "execution_count": 16,
   "id": "03d81496",
   "metadata": {},
   "outputs": [
    {
     "name": "stdout",
     "output_type": "stream",
     "text": [
      "Found 128 images belonging to 5 classes.\n"
     ]
    }
   ],
   "source": [
    "val_set = test_datagen.flow_from_directory('tranformed_split_images_upd_1/val',\n",
    "                                            target_size = (224,224),\n",
    "                                            batch_size = 32,\n",
    "                                            class_mode = 'categorical')"
   ]
  },
  {
   "cell_type": "code",
   "execution_count": 17,
   "id": "0f8cd674",
   "metadata": {},
   "outputs": [
    {
     "name": "stderr",
     "output_type": "stream",
     "text": [
      "<ipython-input-17-a9bb25ee3e13>:3: UserWarning: `Model.fit_generator` is deprecated and will be removed in a future version. Please use `Model.fit`, which supports generators.\n",
      "  r = model_vgg16.fit_generator(\n"
     ]
    },
    {
     "name": "stdout",
     "output_type": "stream",
     "text": [
      "Epoch 1/20\n",
      "80/80 [==============================] - 27s 219ms/step - loss: 1.0245 - accuracy: 0.6069 - val_loss: 0.4314 - val_accuracy: 0.8984\n",
      "Epoch 2/20\n",
      "80/80 [==============================] - 16s 204ms/step - loss: 0.5311 - accuracy: 0.8031 - val_loss: 0.3641 - val_accuracy: 0.8828\n",
      "Epoch 3/20\n",
      "80/80 [==============================] - 20s 254ms/step - loss: 0.4372 - accuracy: 0.8406 - val_loss: 0.2529 - val_accuracy: 0.9531\n",
      "Epoch 4/20\n",
      "80/80 [==============================] - 18s 217ms/step - loss: 0.3559 - accuracy: 0.8694 - val_loss: 0.2233 - val_accuracy: 0.9297\n",
      "Epoch 5/20\n",
      "80/80 [==============================] - 18s 226ms/step - loss: 0.3277 - accuracy: 0.8840 - val_loss: 0.1873 - val_accuracy: 0.9375\n",
      "Epoch 6/20\n",
      "80/80 [==============================] - 18s 229ms/step - loss: 0.3012 - accuracy: 0.8934 - val_loss: 0.2126 - val_accuracy: 0.9453\n",
      "Epoch 7/20\n",
      "80/80 [==============================] - 17s 209ms/step - loss: 0.2577 - accuracy: 0.9116 - val_loss: 0.2088 - val_accuracy: 0.9531\n",
      "Epoch 8/20\n",
      "80/80 [==============================] - 24s 294ms/step - loss: 0.2497 - accuracy: 0.9100 - val_loss: 0.1976 - val_accuracy: 0.9453\n",
      "Epoch 9/20\n",
      "80/80 [==============================] - 35s 439ms/step - loss: 0.2485 - accuracy: 0.9084 - val_loss: 0.1339 - val_accuracy: 0.9531\n",
      "Epoch 10/20\n",
      "80/80 [==============================] - 34s 430ms/step - loss: 0.2125 - accuracy: 0.9286 - val_loss: 0.2119 - val_accuracy: 0.9375\n",
      "Epoch 11/20\n",
      "80/80 [==============================] - 34s 423ms/step - loss: 0.2046 - accuracy: 0.9286 - val_loss: 0.1447 - val_accuracy: 0.9688\n",
      "Epoch 12/20\n",
      "80/80 [==============================] - 34s 425ms/step - loss: 0.1840 - accuracy: 0.9400 - val_loss: 0.1648 - val_accuracy: 0.9453\n",
      "Epoch 13/20\n",
      "80/80 [==============================] - 38s 477ms/step - loss: 0.1695 - accuracy: 0.9479 - val_loss: 0.2565 - val_accuracy: 0.9297\n",
      "Epoch 14/20\n",
      "80/80 [==============================] - 34s 425ms/step - loss: 0.1833 - accuracy: 0.9349 - val_loss: 0.1674 - val_accuracy: 0.9766\n",
      "Epoch 15/20\n",
      "80/80 [==============================] - 35s 430ms/step - loss: 0.1624 - accuracy: 0.9534 - val_loss: 0.1836 - val_accuracy: 0.9453\n",
      "Epoch 16/20\n",
      "80/80 [==============================] - 34s 418ms/step - loss: 0.1640 - accuracy: 0.9463 - val_loss: 0.1505 - val_accuracy: 0.9609\n",
      "Epoch 17/20\n",
      "80/80 [==============================] - 32s 404ms/step - loss: 0.1567 - accuracy: 0.9451 - val_loss: 0.1342 - val_accuracy: 0.9531\n",
      "Epoch 18/20\n",
      "80/80 [==============================] - 32s 398ms/step - loss: 0.1468 - accuracy: 0.9538 - val_loss: 0.1536 - val_accuracy: 0.9453\n",
      "Epoch 19/20\n",
      "80/80 [==============================] - 32s 398ms/step - loss: 0.1432 - accuracy: 0.9570 - val_loss: 0.2179 - val_accuracy: 0.9453\n",
      "Epoch 20/20\n",
      "80/80 [==============================] - 32s 401ms/step - loss: 0.1270 - accuracy: 0.9617 - val_loss: 0.1500 - val_accuracy: 0.9688\n"
     ]
    }
   ],
   "source": [
    "# fit the model\n",
    "# Run the cell. It will take some time to execute\n",
    "r = model_vgg16.fit_generator(\n",
    "  training_set,\n",
    "  validation_data=val_set,\n",
    "  epochs=20,\n",
    "  steps_per_epoch=len(training_set),\n",
    "  validation_steps=len(val_set),\n",
    "  \n",
    ")"
   ]
  },
  {
   "cell_type": "code",
   "execution_count": 18,
   "id": "03466669",
   "metadata": {},
   "outputs": [
    {
     "data": {
      "image/png": "[encoded data removed]",
      "text/plain": [
       "<Figure size 432x288 with 1 Axes>"
      ]
     },
     "metadata": {
      "needs_background": "light"
     },
     "output_type": "display_data"
    },
    {
     "data": {
      "image/png": "[encoded data removed]",
      "text/plain": [
       "<Figure size 432x288 with 1 Axes>"
      ]
     },
     "metadata": {
      "needs_background": "light"
     },
     "output_type": "display_data"
    }
   ],
   "source": [
    "import matplotlib.pyplot as plt\n",
    "# plot the loss\n",
    "plt.plot(r.history['loss'], label='train loss')\n",
    "plt.plot(r.history['val_loss'], label='val loss')\n",
    "plt.legend()\n",
    "plt.show()\n",
    "\n",
    "\n",
    "# plot the accuracy\n",
    "plt.plot(r.history['accuracy'], label='train acc')\n",
    "plt.plot(r.history['val_accuracy'], label='val acc')\n",
    "plt.legend()\n",
    "plt.show()"
   ]
  },
  {
   "cell_type": "code",
   "execution_count": 20,
   "id": "9ad20bb9",
   "metadata": {},
   "outputs": [],
   "source": [
    "from tensorflow.keras.models import load_model\n",
    "\n",
    "model_vgg16.save('model_vgg16.h5')"
   ]
  },
  {
   "cell_type": "code",
   "execution_count": 21,
   "id": "cffbc2f2",
   "metadata": {},
   "outputs": [],
   "source": [
    "model=load_model('model_vgg16.h5')"
   ]
  },
  {
   "cell_type": "code",
   "execution_count": 22,
   "id": "971071f3",
   "metadata": {},
   "outputs": [
    {
     "name": "stdout",
     "output_type": "stream",
     "text": [
      "1/1 [==============================] - 1s 1s/step\n",
      "1/1 [==============================] - 0s 17ms/step\n",
      "Pawn\n"
     ]
    }
   ],
   "source": [
    "img=image.load_img('C:/Users/RUPAK/OneDrive/Desktop/Assignment/tranformed_split_images_upd_1/test/bishop_resized/00000099_resized.jpg',target_size=(224,224))\n",
    "x=image.img_to_array(img)\n",
    "x=np.expand_dims(x,axis=0)\n",
    "img_data=preprocess_input(x)\n",
    "model.predict(img_data)\n",
    "a=np.argmax(model.predict(img_data), axis=1)\n",
    "\n",
    "if a==0:\n",
    "    print(\"Bishop\")\n",
    "if a==1:\n",
    "    print(\"Knight\")\n",
    "if a==2:\n",
    "    print(\"Pawn\")\n",
    "if a==3:\n",
    "    print(\"Queen\")\n",
    "if a==4:\n",
    "    print(\"Rook\")"
   ]
  },
  {
   "cell_type": "code",
   "execution_count": 23,
   "id": "98371c5f",
   "metadata": {},
   "outputs": [
    {
     "name": "stdout",
     "output_type": "stream",
     "text": [
      "Found 70 images belonging to 5 classes.\n"
     ]
    }
   ],
   "source": [
    "test_set_upd = test_datagen.flow_from_directory('tranformed_split_images_upd_1/test',\n",
    "                                            target_size = (224,224),\n",
    "                                            class_mode = 'categorical')"
   ]
  },
  {
   "cell_type": "code",
   "execution_count": 24,
   "id": "664e12c5",
   "metadata": {},
   "outputs": [
    {
     "name": "stdout",
     "output_type": "stream",
     "text": [
      "1/1 [==============================] - 0s 19ms/step\n",
      "1/1 [==============================] - 0s 18ms/step\n",
      "1/1 [==============================] - 0s 21ms/step\n",
      "1/1 [==============================] - 0s 18ms/step\n",
      "1/1 [==============================] - 0s 19ms/step\n",
      "1/1 [==============================] - 0s 19ms/step\n",
      "1/1 [==============================] - 0s 19ms/step\n",
      "1/1 [==============================] - 0s 18ms/step\n",
      "1/1 [==============================] - 0s 18ms/step\n",
      "1/1 [==============================] - 0s 18ms/step\n",
      "1/1 [==============================] - 0s 19ms/step\n",
      "1/1 [==============================] - 0s 18ms/step\n",
      "1/1 [==============================] - 0s 18ms/step\n",
      "1/1 [==============================] - 0s 18ms/step\n",
      "1/1 [==============================] - 0s 20ms/step\n",
      "1/1 [==============================] - 0s 18ms/step\n",
      "1/1 [==============================] - 0s 17ms/step\n",
      "1/1 [==============================] - 0s 19ms/step\n",
      "1/1 [==============================] - 0s 19ms/step\n",
      "1/1 [==============================] - 0s 18ms/step\n",
      "1/1 [==============================] - 0s 19ms/step\n",
      "1/1 [==============================] - 0s 18ms/step\n",
      "1/1 [==============================] - 0s 21ms/step\n",
      "1/1 [==============================] - 0s 25ms/step\n",
      "1/1 [==============================] - 0s 28ms/step\n",
      "1/1 [==============================] - 0s 28ms/step\n",
      "1/1 [==============================] - 0s 29ms/step\n",
      "1/1 [==============================] - 0s 21ms/step\n",
      "1/1 [==============================] - 0s 20ms/step\n",
      "1/1 [==============================] - 0s 18ms/step\n",
      "1/1 [==============================] - 0s 17ms/step\n",
      "1/1 [==============================] - 0s 19ms/step\n",
      "1/1 [==============================] - 0s 18ms/step\n",
      "1/1 [==============================] - 0s 18ms/step\n",
      "1/1 [==============================] - 0s 17ms/step\n",
      "1/1 [==============================] - 0s 18ms/step\n",
      "1/1 [==============================] - 0s 18ms/step\n",
      "1/1 [==============================] - 0s 19ms/step\n",
      "1/1 [==============================] - 0s 19ms/step\n",
      "1/1 [==============================] - 0s 17ms/step\n",
      "1/1 [==============================] - 0s 18ms/step\n",
      "1/1 [==============================] - 0s 20ms/step\n",
      "1/1 [==============================] - 0s 19ms/step\n",
      "1/1 [==============================] - 0s 19ms/step\n",
      "1/1 [==============================] - 0s 18ms/step\n",
      "1/1 [==============================] - 0s 17ms/step\n",
      "1/1 [==============================] - 0s 24ms/step\n",
      "1/1 [==============================] - 0s 24ms/step\n",
      "1/1 [==============================] - 0s 24ms/step\n",
      "1/1 [==============================] - 0s 20ms/step\n",
      "1/1 [==============================] - 0s 19ms/step\n",
      "1/1 [==============================] - 0s 18ms/step\n",
      "1/1 [==============================] - 0s 18ms/step\n",
      "1/1 [==============================] - 0s 18ms/step\n",
      "1/1 [==============================] - 0s 17ms/step\n",
      "1/1 [==============================] - 0s 19ms/step\n",
      "1/1 [==============================] - 0s 17ms/step\n",
      "1/1 [==============================] - 0s 18ms/step\n",
      "1/1 [==============================] - 0s 19ms/step\n",
      "1/1 [==============================] - 0s 19ms/step\n",
      "1/1 [==============================] - 0s 18ms/step\n",
      "1/1 [==============================] - 0s 18ms/step\n",
      "1/1 [==============================] - 0s 28ms/step\n",
      "1/1 [==============================] - 0s 27ms/step\n",
      "1/1 [==============================] - 0s 23ms/step\n",
      "1/1 [==============================] - 0s 18ms/step\n",
      "1/1 [==============================] - 0s 17ms/step\n",
      "1/1 [==============================] - 0s 18ms/step\n",
      "1/1 [==============================] - 0s 18ms/step\n",
      "1/1 [==============================] - 0s 19ms/step\n",
      "1/1 [==============================] - 0s 29ms/step\n",
      "1/1 [==============================] - 0s 18ms/step\n",
      "1/1 [==============================] - 0s 18ms/step\n",
      "1/1 [==============================] - 0s 17ms/step\n",
      "1/1 [==============================] - 0s 19ms/step\n",
      "1/1 [==============================] - 0s 18ms/step\n",
      "1/1 [==============================] - 0s 18ms/step\n",
      "1/1 [==============================] - 0s 20ms/step\n",
      "1/1 [==============================] - 0s 18ms/step\n",
      "1/1 [==============================] - 0s 19ms/step\n",
      "1/1 [==============================] - 0s 19ms/step\n",
      "1/1 [==============================] - 0s 18ms/step\n",
      "1/1 [==============================] - 0s 19ms/step\n",
      "1/1 [==============================] - 0s 20ms/step\n",
      "1/1 [==============================] - 0s 27ms/step\n",
      "1/1 [==============================] - 0s 26ms/step\n",
      "1/1 [==============================] - 0s 27ms/step\n",
      "1/1 [==============================] - 0s 25ms/step\n",
      "1/1 [==============================] - 0s 21ms/step\n",
      "1/1 [==============================] - 0s 18ms/step\n",
      "1/1 [==============================] - 0s 17ms/step\n",
      "1/1 [==============================] - 0s 18ms/step\n",
      "1/1 [==============================] - 0s 18ms/step\n",
      "1/1 [==============================] - 0s 18ms/step\n",
      "1/1 [==============================] - 0s 18ms/step\n",
      "1/1 [==============================] - 0s 18ms/step\n",
      "1/1 [==============================] - 0s 17ms/step\n",
      "1/1 [==============================] - 0s 18ms/step\n",
      "1/1 [==============================] - 0s 22ms/step\n",
      "1/1 [==============================] - 0s 24ms/step\n",
      "1/1 [==============================] - 0s 24ms/step\n",
      "1/1 [==============================] - 0s 21ms/step\n",
      "1/1 [==============================] - 0s 18ms/step\n",
      "1/1 [==============================] - 0s 18ms/step\n",
      "1/1 [==============================] - 0s 18ms/step\n",
      "1/1 [==============================] - 0s 17ms/step\n",
      "1/1 [==============================] - 0s 18ms/step\n",
      "1/1 [==============================] - 0s 18ms/step\n",
      "1/1 [==============================] - 0s 18ms/step\n",
      "1/1 [==============================] - 0s 20ms/step\n",
      "1/1 [==============================] - 0s 19ms/step\n",
      "1/1 [==============================] - 0s 19ms/step\n",
      "1/1 [==============================] - 0s 20ms/step\n",
      "1/1 [==============================] - 0s 20ms/step\n",
      "1/1 [==============================] - 0s 19ms/step\n",
      "1/1 [==============================] - 0s 28ms/step\n",
      "1/1 [==============================] - 0s 19ms/step\n",
      "1/1 [==============================] - 0s 28ms/step\n",
      "1/1 [==============================] - 0s 22ms/step\n",
      "1/1 [==============================] - 0s 20ms/step\n",
      "1/1 [==============================] - 0s 18ms/step\n",
      "1/1 [==============================] - 0s 17ms/step\n",
      "1/1 [==============================] - 0s 18ms/step\n",
      "1/1 [==============================] - 0s 18ms/step\n",
      "1/1 [==============================] - 0s 18ms/step\n",
      "1/1 [==============================] - 0s 18ms/step\n",
      "1/1 [==============================] - 0s 18ms/step\n",
      "1/1 [==============================] - 0s 18ms/step\n",
      "1/1 [==============================] - 0s 23ms/step\n",
      "1/1 [==============================] - 0s 17ms/step\n",
      "1/1 [==============================] - 0s 22ms/step\n",
      "1/1 [==============================] - 0s 18ms/step\n",
      "1/1 [==============================] - 0s 18ms/step\n",
      "1/1 [==============================] - 0s 17ms/step\n",
      "1/1 [==============================] - 0s 18ms/step\n",
      "1/1 [==============================] - 0s 17ms/step\n",
      "1/1 [==============================] - 0s 18ms/step\n",
      "1/1 [==============================] - 0s 19ms/step\n",
      "1/1 [==============================] - 0s 22ms/step\n",
      "1/1 [==============================] - 0s 20ms/step\n"
     ]
    }
   ],
   "source": [
    "#Prediction of the test data for each category\n",
    "\n",
    "bishop_resize=[]\n",
    "for files in os.listdir(\"C:/Users/RUPAK/OneDrive/Desktop/Assignment/tranformed_split_images_upd_1/test/bishop_resized\"):\n",
    "    #print(files)\n",
    "    img=image.load_img('C:/Users/RUPAK/OneDrive/Desktop/Assignment/tranformed_split_images_upd_1/test/bishop_resized/'+files,target_size=(224,224))\n",
    "    x=image.img_to_array(img)\n",
    "    x=np.expand_dims(x,axis=0)\n",
    "    img_data=preprocess_input(x)\n",
    "    model.predict(img_data)\n",
    "    a=np.argmax(model.predict(img_data), axis=1)\n",
    "    bishop_resize.append(a)\n",
    "\n",
    "knight_resize=[]\n",
    "for files in os.listdir(\"C:/Users/RUPAK/OneDrive/Desktop/Assignment/tranformed_split_images_upd_1/test/knight_resize\"):\n",
    "    #print(files)\n",
    "    img=image.load_img('C:/Users/RUPAK/OneDrive/Desktop/Assignment/tranformed_split_images_upd_1/test/knight_resize/'+files,target_size=(224,224))\n",
    "    x=image.img_to_array(img)\n",
    "    x=np.expand_dims(x,axis=0)\n",
    "    img_data=preprocess_input(x)\n",
    "    model.predict(img_data)\n",
    "    a=np.argmax(model.predict(img_data), axis=1)\n",
    "    knight_resize.append(a)\n",
    "    \n",
    "pawn_resize=[]\n",
    "for files in os.listdir(\"C:/Users/RUPAK/OneDrive/Desktop/Assignment/tranformed_split_images_upd_1/test/pawn_resized\"):\n",
    "    #print(files)\n",
    "    img=image.load_img('C:/Users/RUPAK/OneDrive/Desktop/Assignment/tranformed_split_images_upd_1/test/pawn_resized/'+files,target_size=(224,224))\n",
    "    x=image.img_to_array(img)\n",
    "    x=np.expand_dims(x,axis=0)\n",
    "    img_data=preprocess_input(x)\n",
    "    model.predict(img_data)\n",
    "    a=np.argmax(model.predict(img_data), axis=1)\n",
    "    pawn_resize.append(a)\n",
    "    \n",
    "    \n",
    "queen_resized=[]\n",
    "for files in os.listdir(\"C:/Users/RUPAK/OneDrive/Desktop/Assignment/tranformed_split_images_upd_1/test/queen_resized\"):\n",
    "    #print(files)\n",
    "    img=image.load_img('C:/Users/RUPAK/OneDrive/Desktop/Assignment/tranformed_split_images_upd_1/test/queen_resized/'+files,target_size=(224,224))\n",
    "    x=image.img_to_array(img)\n",
    "    x=np.expand_dims(x,axis=0)\n",
    "    img_data=preprocess_input(x)\n",
    "    model.predict(img_data)\n",
    "    a=np.argmax(model.predict(img_data), axis=1)\n",
    "    queen_resized.append(a)\n",
    "    \n",
    "rook_resize=[]\n",
    "for files in os.listdir(\"C:/Users/RUPAK/OneDrive/Desktop/Assignment/tranformed_split_images_upd_1/test/rook_resize\"):\n",
    "    #print(files)\n",
    "    img=image.load_img('C:/Users/RUPAK/OneDrive/Desktop/Assignment/tranformed_split_images_upd_1/test/rook_resize/'+files,target_size=(224,224))\n",
    "    x=image.img_to_array(img)\n",
    "    x=np.expand_dims(x,axis=0)\n",
    "    img_data=preprocess_input(x)\n",
    "    model.predict(img_data)\n",
    "    a=np.argmax(model.predict(img_data), axis=1)\n",
    "    rook_resize.append(a)\n",
    "\n",
    "#Appending all the predicted data in one list\n",
    "total_test = [2,0,3,0,0,0,0,0,0,0,0,0,2,0,0,1,1,1,1,1,1,1,4,1,1,1,1,4,1,1,1,1,1,1,2,2,2,2,2,2,2,2,0,3,3,3,3,3,3,3,3,3,3,3,3,4,4,4,4,4,4,4,4,4,4,4,4,4,4,4]"
   ]
  },
  {
   "cell_type": "code",
   "execution_count": 25,
   "id": "96bc74af",
   "metadata": {},
   "outputs": [
    {
     "data": {
      "text/plain": [
       "0.9142857142857143"
      ]
     },
     "execution_count": 25,
     "metadata": {},
     "output_type": "execute_result"
    }
   ],
   "source": [
    "#Printing the accuracy score\n",
    "accuracy_score(test_set_upd.classes,total_test)"
   ]
  },
  {
   "cell_type": "code",
   "execution_count": 26,
   "id": "a8cb9ce7",
   "metadata": {},
   "outputs": [
    {
     "name": "stdout",
     "output_type": "stream",
     "text": [
      "              precision    recall  f1-score   support\n",
      "\n",
      "      Bishop       0.92      0.80      0.86        15\n",
      "      Knight       1.00      0.89      0.94        19\n",
      "        Pawn       0.80      0.89      0.84         9\n",
      "       Queen       0.92      1.00      0.96        12\n",
      "        Rook       0.88      1.00      0.94        15\n",
      "\n",
      "    accuracy                           0.91        70\n",
      "   macro avg       0.91      0.92      0.91        70\n",
      "weighted avg       0.92      0.91      0.91        70\n",
      "\n"
     ]
    }
   ],
   "source": [
    "#Classification report\n",
    "target_names = ['Bishop','Knight','Pawn','Queen','Rook']\n",
    "class_report = classification_report(test_set_upd.classes, total_test, target_names=target_names)\n",
    "print(class_report)"
   ]
  },
  {
   "cell_type": "markdown",
   "id": "f18974a4",
   "metadata": {},
   "source": [
    "# Implementing the VGG19"
   ]
  },
  {
   "cell_type": "code",
   "execution_count": 28,
   "id": "3a94e746",
   "metadata": {},
   "outputs": [],
   "source": [
    "vgg19 = VGG19(input_shape=IMAGE_SIZE + [3], weights='imagenet', include_top=False)"
   ]
  },
  {
   "cell_type": "code",
   "execution_count": 29,
   "id": "bbe16a7a",
   "metadata": {},
   "outputs": [],
   "source": [
    "# don't train existing weights\n",
    "for layer in vgg19.layers:\n",
    "    layer.trainable = False"
   ]
  },
  {
   "cell_type": "code",
   "execution_count": 30,
   "id": "e8d09ce3",
   "metadata": {},
   "outputs": [],
   "source": [
    "# useful for getting number of output classes\n",
    "folders = glob('tranformed_split_images_upd_1/train/*')"
   ]
  },
  {
   "cell_type": "code",
   "execution_count": 31,
   "id": "7191920a",
   "metadata": {},
   "outputs": [],
   "source": [
    "# our layers - you can add more if you want\n",
    "x = Flatten()(vgg19.output)"
   ]
  },
  {
   "cell_type": "code",
   "execution_count": 32,
   "id": "8d497f6b",
   "metadata": {},
   "outputs": [],
   "source": [
    "prediction = Dense(len(folders), activation='softmax')(x)\n",
    "\n",
    "# create a model object\n",
    "model_vgg19 = Model(inputs=vgg19.input, outputs=prediction)"
   ]
  },
  {
   "cell_type": "code",
   "execution_count": 33,
   "id": "b31b84c6",
   "metadata": {},
   "outputs": [],
   "source": [
    "# tell the model what cost and optimization method to use\n",
    "model_vgg19.compile(\n",
    "  loss='categorical_crossentropy',\n",
    "  optimizer='adam',\n",
    "  metrics=['accuracy']\n",
    ")"
   ]
  },
  {
   "cell_type": "code",
   "execution_count": 34,
   "id": "feeac561",
   "metadata": {},
   "outputs": [],
   "source": [
    "# Use the Image Data Generator to import the images from the dataset\n",
    "from tensorflow.keras.preprocessing.image import ImageDataGenerator\n",
    "\n",
    "train_datagen = ImageDataGenerator(rescale = 1./255,\n",
    "                                   shear_range = 0.2,\n",
    "                                   zoom_range = 0.2,\n",
    "                                   horizontal_flip = True)\n",
    "\n",
    "test_datagen = ImageDataGenerator(rescale = 1./255)"
   ]
  },
  {
   "cell_type": "code",
   "execution_count": 35,
   "id": "1acce48b",
   "metadata": {},
   "outputs": [
    {
     "name": "stdout",
     "output_type": "stream",
     "text": [
      "Found 2534 images belonging to 5 classes.\n"
     ]
    }
   ],
   "source": [
    "# Make sure you provide the same target size as initialied for the image size\n",
    "training_set = train_datagen.flow_from_directory('tranformed_split_images_upd_1/train',\n",
    "                                                 target_size = (224,224),\n",
    "                                                 batch_size = 32,\n",
    "                                                 class_mode = 'categorical')"
   ]
  },
  {
   "cell_type": "code",
   "execution_count": 36,
   "id": "869e0b27",
   "metadata": {},
   "outputs": [
    {
     "name": "stdout",
     "output_type": "stream",
     "text": [
      "Found 128 images belonging to 5 classes.\n"
     ]
    }
   ],
   "source": [
    "test_set = test_datagen.flow_from_directory('tranformed_split_images_upd_1/val',\n",
    "                                            target_size = (224,224),\n",
    "                                            batch_size = 32,\n",
    "                                            class_mode = 'categorical')"
   ]
  },
  {
   "cell_type": "code",
   "execution_count": 37,
   "id": "2a3369b6",
   "metadata": {},
   "outputs": [
    {
     "name": "stderr",
     "output_type": "stream",
     "text": [
      "<ipython-input-37-e8d2d04e41d7>:3: UserWarning: `Model.fit_generator` is deprecated and will be removed in a future version. Please use `Model.fit`, which supports generators.\n",
      "  r = model_vgg19.fit_generator(\n"
     ]
    },
    {
     "name": "stdout",
     "output_type": "stream",
     "text": [
      "Epoch 1/20\n",
      "80/80 [==============================] - 36s 437ms/step - loss: 1.2263 - accuracy: 0.5545 - val_loss: 0.5037 - val_accuracy: 0.8359\n",
      "Epoch 2/20\n",
      "80/80 [==============================] - 35s 438ms/step - loss: 0.6479 - accuracy: 0.7573 - val_loss: 0.3520 - val_accuracy: 0.8984\n",
      "Epoch 3/20\n",
      "80/80 [==============================] - 35s 439ms/step - loss: 0.5753 - accuracy: 0.7873 - val_loss: 0.2605 - val_accuracy: 0.8828\n",
      "Epoch 4/20\n",
      "80/80 [==============================] - 37s 461ms/step - loss: 0.4836 - accuracy: 0.8098 - val_loss: 0.2159 - val_accuracy: 0.9219\n",
      "Epoch 5/20\n",
      "80/80 [==============================] - 31s 392ms/step - loss: 0.4622 - accuracy: 0.8200 - val_loss: 0.2581 - val_accuracy: 0.9219\n",
      "Epoch 6/20\n",
      "80/80 [==============================] - 32s 401ms/step - loss: 0.4694 - accuracy: 0.8197 - val_loss: 0.2152 - val_accuracy: 0.9297\n",
      "Epoch 7/20\n",
      "80/80 [==============================] - 32s 403ms/step - loss: 0.4406 - accuracy: 0.8398 - val_loss: 0.2351 - val_accuracy: 0.9375\n",
      "Epoch 8/20\n",
      "80/80 [==============================] - 53s 662ms/step - loss: 0.4459 - accuracy: 0.8279 - val_loss: 0.2222 - val_accuracy: 0.9219\n",
      "Epoch 9/20\n",
      "80/80 [==============================] - 55s 689ms/step - loss: 0.3715 - accuracy: 0.8571 - val_loss: 0.1778 - val_accuracy: 0.9375\n",
      "Epoch 10/20\n",
      "80/80 [==============================] - 79s 982ms/step - loss: 0.3208 - accuracy: 0.8808 - val_loss: 0.1646 - val_accuracy: 0.9609\n",
      "Epoch 11/20\n",
      "80/80 [==============================] - 36s 449ms/step - loss: 0.3082 - accuracy: 0.8911 - val_loss: 0.1976 - val_accuracy: 0.9453\n",
      "Epoch 12/20\n",
      "80/80 [==============================] - 34s 424ms/step - loss: 0.3548 - accuracy: 0.8682 - val_loss: 0.1590 - val_accuracy: 0.9531\n",
      "Epoch 13/20\n",
      "80/80 [==============================] - 36s 442ms/step - loss: 0.3430 - accuracy: 0.8729 - val_loss: 0.1657 - val_accuracy: 0.9688\n",
      "Epoch 14/20\n",
      "80/80 [==============================] - 42s 526ms/step - loss: 0.3064 - accuracy: 0.8867 - val_loss: 0.1538 - val_accuracy: 0.9609\n",
      "Epoch 15/20\n",
      "80/80 [==============================] - 74s 925ms/step - loss: 0.2802 - accuracy: 0.8903 - val_loss: 0.1676 - val_accuracy: 0.9531\n",
      "Epoch 16/20\n",
      "80/80 [==============================] - 42s 522ms/step - loss: 0.3175 - accuracy: 0.8836 - val_loss: 0.1488 - val_accuracy: 0.9375\n",
      "Epoch 17/20\n",
      "80/80 [==============================] - 39s 489ms/step - loss: 0.3592 - accuracy: 0.8627 - val_loss: 0.1748 - val_accuracy: 0.9531\n",
      "Epoch 18/20\n",
      "80/80 [==============================] - 34s 423ms/step - loss: 0.3017 - accuracy: 0.8931 - val_loss: 0.1760 - val_accuracy: 0.9531\n",
      "Epoch 19/20\n",
      "80/80 [==============================] - 52s 653ms/step - loss: 0.2794 - accuracy: 0.8958 - val_loss: 0.1659 - val_accuracy: 0.9609\n",
      "Epoch 20/20\n",
      "80/80 [==============================] - 48s 601ms/step - loss: 0.2513 - accuracy: 0.9061 - val_loss: 0.2101 - val_accuracy: 0.9531\n"
     ]
    }
   ],
   "source": [
    "# fit the model\n",
    "# Run the cell. It will take some time to execute\n",
    "r = model_vgg19.fit_generator(\n",
    "  training_set,\n",
    "  validation_data=test_set,\n",
    "  epochs=20,\n",
    "  steps_per_epoch=len(training_set),\n",
    "  validation_steps=len(test_set)\n",
    ")"
   ]
  },
  {
   "cell_type": "code",
   "execution_count": 38,
   "id": "4b14a5de",
   "metadata": {},
   "outputs": [
    {
     "data": {
      "image/png": "[encoded data removed]",
      "text/plain": [
       "<Figure size 432x288 with 1 Axes>"
      ]
     },
     "metadata": {
      "needs_background": "light"
     },
     "output_type": "display_data"
    },
    {
     "data": {
      "image/png": "[encoded data removed]",
      "text/plain": [
       "<Figure size 432x288 with 1 Axes>"
      ]
     },
     "metadata": {
      "needs_background": "light"
     },
     "output_type": "display_data"
    }
   ],
   "source": [
    "import matplotlib.pyplot as plt\n",
    "# plot the loss\n",
    "plt.plot(r.history['loss'], label='train loss')\n",
    "plt.plot(r.history['val_loss'], label='val loss')\n",
    "plt.legend()\n",
    "plt.show()\n",
    "\n",
    "# plot the accuracy\n",
    "plt.plot(r.history['accuracy'], label='train acc')\n",
    "plt.plot(r.history['val_accuracy'], label='val acc')\n",
    "plt.legend()\n",
    "plt.show()\n"
   ]
  },
  {
   "cell_type": "code",
   "execution_count": 67,
   "id": "11fc6369",
   "metadata": {},
   "outputs": [],
   "source": [
    "# save it as a h5 file\n",
    "from tensorflow.keras.models import load_model\n",
    "\n",
    "model_vgg19.save('model_vgg19.h5')"
   ]
  },
  {
   "cell_type": "code",
   "execution_count": 68,
   "id": "d1f74367",
   "metadata": {},
   "outputs": [],
   "source": [
    "model=load_model('model_vgg19.h5')"
   ]
  },
  {
   "cell_type": "code",
   "execution_count": 69,
   "id": "31694859",
   "metadata": {},
   "outputs": [],
   "source": [
    "from tensorflow.keras.models import load_model\n",
    "from tensorflow.keras.preprocessing import image"
   ]
  },
  {
   "cell_type": "code",
   "execution_count": 70,
   "id": "5a35c590",
   "metadata": {},
   "outputs": [
    {
     "name": "stdout",
     "output_type": "stream",
     "text": [
      "1/1 [==============================] - 0s 134ms/step\n",
      "1/1 [==============================] - 0s 19ms/step\n",
      "Queen\n"
     ]
    }
   ],
   "source": [
    "img=image.load_img('C:/Users/RUPAK/OneDrive/Desktop/Assignment/tranformed_split_images_upd_1/test/bishop_resized/00000099_resized.jpg',target_size=(224,224))\n",
    "x=image.img_to_array(img)\n",
    "x=np.expand_dims(x,axis=0)\n",
    "img_data=preprocess_input(x)\n",
    "model.predict(img_data)\n",
    "a=np.argmax(model.predict(img_data), axis=1)\n",
    "\n",
    "if a==0:\n",
    "    print(\"Bishop\")\n",
    "if a==1:\n",
    "    print(\"Knight\")\n",
    "if a==2:\n",
    "    print(\"Pawn\")\n",
    "if a==3:\n",
    "    print(\"Queen\")\n",
    "if a==4:\n",
    "    print(\"Rook\")"
   ]
  },
  {
   "cell_type": "code",
   "execution_count": 71,
   "id": "56603ece",
   "metadata": {
    "collapsed": true
   },
   "outputs": [
    {
     "name": "stdout",
     "output_type": "stream",
     "text": [
      "1/1 [==============================] - 0s 18ms/step\n",
      "1/1 [==============================] - 0s 18ms/step\n",
      "1/1 [==============================] - 0s 18ms/step\n",
      "1/1 [==============================] - 0s 17ms/step\n",
      "1/1 [==============================] - 0s 18ms/step\n",
      "1/1 [==============================] - 0s 18ms/step\n",
      "1/1 [==============================] - 0s 17ms/step\n",
      "1/1 [==============================] - 0s 18ms/step\n",
      "1/1 [==============================] - 0s 19ms/step\n",
      "1/1 [==============================] - 0s 18ms/step\n",
      "1/1 [==============================] - 0s 18ms/step\n",
      "1/1 [==============================] - 0s 18ms/step\n",
      "1/1 [==============================] - 0s 18ms/step\n",
      "1/1 [==============================] - 0s 18ms/step\n",
      "1/1 [==============================] - 0s 18ms/step\n",
      "1/1 [==============================] - 0s 18ms/step\n",
      "1/1 [==============================] - 0s 19ms/step\n",
      "1/1 [==============================] - 0s 18ms/step\n",
      "1/1 [==============================] - 0s 17ms/step\n",
      "1/1 [==============================] - 0s 18ms/step\n",
      "1/1 [==============================] - 0s 19ms/step\n",
      "1/1 [==============================] - 0s 18ms/step\n",
      "1/1 [==============================] - 0s 18ms/step\n",
      "1/1 [==============================] - 0s 18ms/step\n",
      "1/1 [==============================] - 0s 18ms/step\n",
      "1/1 [==============================] - 0s 18ms/step\n",
      "1/1 [==============================] - 0s 18ms/step\n",
      "1/1 [==============================] - 0s 17ms/step\n",
      "1/1 [==============================] - 0s 17ms/step\n",
      "1/1 [==============================] - 0s 18ms/step\n",
      "1/1 [==============================] - 0s 18ms/step\n",
      "1/1 [==============================] - 0s 18ms/step\n",
      "1/1 [==============================] - 0s 18ms/step\n",
      "1/1 [==============================] - 0s 18ms/step\n",
      "1/1 [==============================] - 0s 18ms/step\n",
      "1/1 [==============================] - 0s 18ms/step\n",
      "1/1 [==============================] - 0s 18ms/step\n",
      "1/1 [==============================] - 0s 18ms/step\n",
      "1/1 [==============================] - 0s 18ms/step\n",
      "1/1 [==============================] - 0s 19ms/step\n",
      "1/1 [==============================] - 0s 18ms/step\n",
      "1/1 [==============================] - 0s 17ms/step\n",
      "1/1 [==============================] - 0s 18ms/step\n",
      "1/1 [==============================] - 0s 18ms/step\n",
      "1/1 [==============================] - 0s 19ms/step\n",
      "1/1 [==============================] - 0s 17ms/step\n",
      "1/1 [==============================] - 0s 18ms/step\n",
      "1/1 [==============================] - 0s 18ms/step\n",
      "1/1 [==============================] - 0s 19ms/step\n",
      "1/1 [==============================] - 0s 18ms/step\n",
      "1/1 [==============================] - 0s 20ms/step\n",
      "1/1 [==============================] - 0s 19ms/step\n",
      "1/1 [==============================] - 0s 19ms/step\n",
      "1/1 [==============================] - 0s 18ms/step\n",
      "1/1 [==============================] - 0s 19ms/step\n",
      "1/1 [==============================] - 0s 19ms/step\n",
      "1/1 [==============================] - 0s 18ms/step\n",
      "1/1 [==============================] - 0s 18ms/step\n",
      "1/1 [==============================] - 0s 17ms/step\n",
      "1/1 [==============================] - 0s 18ms/step\n",
      "1/1 [==============================] - 0s 24ms/step\n",
      "1/1 [==============================] - 0s 18ms/step\n",
      "1/1 [==============================] - 0s 18ms/step\n",
      "1/1 [==============================] - 0s 17ms/step\n",
      "1/1 [==============================] - 0s 19ms/step\n",
      "1/1 [==============================] - 0s 18ms/step\n",
      "1/1 [==============================] - 0s 18ms/step\n",
      "1/1 [==============================] - 0s 19ms/step\n",
      "1/1 [==============================] - 0s 18ms/step\n",
      "1/1 [==============================] - 0s 19ms/step\n",
      "1/1 [==============================] - 0s 19ms/step\n",
      "1/1 [==============================] - 0s 18ms/step\n",
      "1/1 [==============================] - 0s 18ms/step\n",
      "1/1 [==============================] - 0s 18ms/step\n",
      "1/1 [==============================] - 0s 18ms/step\n",
      "1/1 [==============================] - 0s 18ms/step\n",
      "1/1 [==============================] - 0s 18ms/step\n",
      "1/1 [==============================] - 0s 18ms/step\n",
      "1/1 [==============================] - 0s 18ms/step\n",
      "1/1 [==============================] - 0s 17ms/step\n",
      "1/1 [==============================] - 0s 28ms/step\n",
      "1/1 [==============================] - 0s 30ms/step\n",
      "1/1 [==============================] - 0s 29ms/step\n",
      "1/1 [==============================] - 0s 30ms/step\n",
      "1/1 [==============================] - 0s 21ms/step\n",
      "1/1 [==============================] - 0s 19ms/step\n",
      "1/1 [==============================] - 0s 18ms/step\n",
      "1/1 [==============================] - 0s 17ms/step\n",
      "1/1 [==============================] - 0s 19ms/step\n",
      "1/1 [==============================] - 0s 17ms/step\n",
      "1/1 [==============================] - 0s 18ms/step\n",
      "1/1 [==============================] - 0s 18ms/step\n",
      "1/1 [==============================] - 0s 19ms/step\n",
      "1/1 [==============================] - 0s 18ms/step\n",
      "1/1 [==============================] - 0s 18ms/step\n",
      "1/1 [==============================] - 0s 19ms/step\n",
      "1/1 [==============================] - 0s 18ms/step\n",
      "1/1 [==============================] - 0s 17ms/step\n",
      "1/1 [==============================] - 0s 18ms/step\n",
      "1/1 [==============================] - 0s 19ms/step\n",
      "1/1 [==============================] - 0s 19ms/step\n",
      "1/1 [==============================] - 0s 18ms/step\n",
      "1/1 [==============================] - 0s 19ms/step\n",
      "1/1 [==============================] - 0s 19ms/step\n",
      "1/1 [==============================] - 0s 17ms/step\n",
      "1/1 [==============================] - 0s 18ms/step\n",
      "1/1 [==============================] - 0s 17ms/step\n",
      "1/1 [==============================] - 0s 19ms/step\n",
      "1/1 [==============================] - 0s 21ms/step\n",
      "1/1 [==============================] - 0s 17ms/step\n",
      "1/1 [==============================] - 0s 19ms/step\n",
      "1/1 [==============================] - 0s 19ms/step\n",
      "1/1 [==============================] - 0s 17ms/step\n",
      "1/1 [==============================] - 0s 30ms/step\n",
      "1/1 [==============================] - 0s 35ms/step\n",
      "1/1 [==============================] - 0s 34ms/step\n",
      "1/1 [==============================] - 0s 27ms/step\n",
      "1/1 [==============================] - 0s 27ms/step\n",
      "1/1 [==============================] - 0s 27ms/step\n",
      "1/1 [==============================] - 0s 19ms/step\n",
      "1/1 [==============================] - 0s 19ms/step\n",
      "1/1 [==============================] - 0s 18ms/step\n",
      "1/1 [==============================] - 0s 19ms/step\n",
      "1/1 [==============================] - 0s 18ms/step\n",
      "1/1 [==============================] - 0s 19ms/step\n",
      "1/1 [==============================] - 0s 21ms/step\n",
      "1/1 [==============================] - 0s 17ms/step\n",
      "1/1 [==============================] - 0s 18ms/step\n",
      "1/1 [==============================] - 0s 18ms/step\n",
      "1/1 [==============================] - 0s 18ms/step\n",
      "1/1 [==============================] - 0s 18ms/step\n",
      "1/1 [==============================] - 0s 18ms/step\n",
      "1/1 [==============================] - 0s 24ms/step\n",
      "1/1 [==============================] - 0s 17ms/step\n",
      "1/1 [==============================] - 0s 19ms/step\n",
      "1/1 [==============================] - 0s 19ms/step\n",
      "1/1 [==============================] - 0s 18ms/step\n",
      "1/1 [==============================] - 0s 18ms/step\n",
      "1/1 [==============================] - 0s 19ms/step\n",
      "1/1 [==============================] - 0s 19ms/step\n"
     ]
    }
   ],
   "source": [
    "bishop_resize=[]\n",
    "for files in os.listdir(\"C:/Users/RUPAK/OneDrive/Desktop/Assignment/tranformed_split_images_upd_1/test/bishop_resized\"):\n",
    "    #print(files)\n",
    "    img=image.load_img('C:/Users/RUPAK/OneDrive/Desktop/Assignment/tranformed_split_images_upd_1/test/bishop_resized/'+files,target_size=(224,224))\n",
    "    x=image.img_to_array(img)\n",
    "    x=np.expand_dims(x,axis=0)\n",
    "    img_data=preprocess_input(x)\n",
    "    model.predict(img_data)\n",
    "    a=np.argmax(model.predict(img_data), axis=1)\n",
    "    bishop_resize.append(a)\n",
    "\n",
    "knight_resize=[]\n",
    "for files in os.listdir(\"C:/Users/RUPAK/OneDrive/Desktop/Assignment/tranformed_split_images_upd_1/test/knight_resize\"):\n",
    "    #print(files)\n",
    "    img=image.load_img('C:/Users/RUPAK/OneDrive/Desktop/Assignment/tranformed_split_images_upd_1/test/knight_resize/'+files,target_size=(224,224))\n",
    "    x=image.img_to_array(img)\n",
    "    x=np.expand_dims(x,axis=0)\n",
    "    img_data=preprocess_input(x)\n",
    "    model.predict(img_data)\n",
    "    a=np.argmax(model.predict(img_data), axis=1)\n",
    "    knight_resize.append(a)\n",
    "    \n",
    "pawn_resize=[]\n",
    "for files in os.listdir(\"C:/Users/RUPAK/OneDrive/Desktop/Assignment/tranformed_split_images_upd_1/test/pawn_resized\"):\n",
    "    #print(files)\n",
    "    img=image.load_img('C:/Users/RUPAK/OneDrive/Desktop/Assignment/tranformed_split_images_upd_1/test/pawn_resized/'+files,target_size=(224,224))\n",
    "    x=image.img_to_array(img)\n",
    "    x=np.expand_dims(x,axis=0)\n",
    "    img_data=preprocess_input(x)\n",
    "    model.predict(img_data)\n",
    "    a=np.argmax(model.predict(img_data), axis=1)\n",
    "    pawn_resize.append(a)\n",
    "    \n",
    "    \n",
    "queen_resized=[]\n",
    "for files in os.listdir(\"C:/Users/RUPAK/OneDrive/Desktop/Assignment/tranformed_split_images_upd_1/test/queen_resized\"):\n",
    "    #print(files)\n",
    "    img=image.load_img('C:/Users/RUPAK/OneDrive/Desktop/Assignment/tranformed_split_images_upd_1/test/queen_resized/'+files,target_size=(224,224))\n",
    "    x=image.img_to_array(img)\n",
    "    x=np.expand_dims(x,axis=0)\n",
    "    img_data=preprocess_input(x)\n",
    "    model.predict(img_data)\n",
    "    a=np.argmax(model.predict(img_data), axis=1)\n",
    "    queen_resized.append(a)\n",
    "    \n",
    "rook_resize=[]\n",
    "for files in os.listdir(\"C:/Users/RUPAK/OneDrive/Desktop/Assignment/tranformed_split_images_upd_1/test/rook_resize\"):\n",
    "    #print(files)\n",
    "    img=image.load_img('C:/Users/RUPAK/OneDrive/Desktop/Assignment/tranformed_split_images_upd_1/test/rook_resize/'+files,target_size=(224,224))\n",
    "    x=image.img_to_array(img)\n",
    "    x=np.expand_dims(x,axis=0)\n",
    "    img_data=preprocess_input(x)\n",
    "    model.predict(img_data)\n",
    "    a=np.argmax(model.predict(img_data), axis=1)\n",
    "    rook_resize.append(a)"
   ]
  },
  {
   "cell_type": "code",
   "execution_count": 78,
   "id": "61fd8603",
   "metadata": {},
   "outputs": [
    {
     "data": {
      "text/plain": [
       "[array([4], dtype=int64),\n",
       " array([4], dtype=int64),\n",
       " array([4], dtype=int64),\n",
       " array([4], dtype=int64),\n",
       " array([4], dtype=int64),\n",
       " array([4], dtype=int64),\n",
       " array([4], dtype=int64),\n",
       " array([4], dtype=int64),\n",
       " array([4], dtype=int64),\n",
       " array([4], dtype=int64),\n",
       " array([4], dtype=int64),\n",
       " array([4], dtype=int64),\n",
       " array([4], dtype=int64),\n",
       " array([4], dtype=int64),\n",
       " array([4], dtype=int64)]"
      ]
     },
     "execution_count": 78,
     "metadata": {},
     "output_type": "execute_result"
    }
   ],
   "source": [
    "rook_resize"
   ]
  },
  {
   "cell_type": "code",
   "execution_count": 79,
   "id": "9b951d45",
   "metadata": {},
   "outputs": [
    {
     "data": {
      "text/plain": [
       "70"
      ]
     },
     "execution_count": 79,
     "metadata": {},
     "output_type": "execute_result"
    }
   ],
   "source": [
    "#prediction of the test set\n",
    "total_test = [2,0,3,0,0,0,0,0,2,0,0,0,3,3,0,1,1,1,1,1,1,1,2,1,1,1,1,2,1,1,1,1,1,1,2,2,2,2,2,2,2,2,0,3,3,3,3,3,3,3,3,3,3,3,3,4,4,4,4,4,4,4,4,4,4,4,4,4,4,4]\n",
    "\n",
    "len(total_test)"
   ]
  },
  {
   "cell_type": "code",
   "execution_count": 80,
   "id": "748c6337",
   "metadata": {},
   "outputs": [
    {
     "data": {
      "text/plain": [
       "0.8857142857142857"
      ]
     },
     "execution_count": 80,
     "metadata": {},
     "output_type": "execute_result"
    }
   ],
   "source": [
    "#Printing the accuracy score\n",
    "accuracy_score(test_set_upd.classes,total_test)"
   ]
  },
  {
   "cell_type": "code",
   "execution_count": 81,
   "id": "e4e44ca6",
   "metadata": {},
   "outputs": [
    {
     "name": "stdout",
     "output_type": "stream",
     "text": [
      "              precision    recall  f1-score   support\n",
      "\n",
      "      Bishop       0.91      0.67      0.77        15\n",
      "      Knight       1.00      0.89      0.94        19\n",
      "        Pawn       0.67      0.89      0.76         9\n",
      "       Queen       0.80      1.00      0.89        12\n",
      "        Rook       1.00      1.00      1.00        15\n",
      "\n",
      "    accuracy                           0.89        70\n",
      "   macro avg       0.88      0.89      0.87        70\n",
      "weighted avg       0.90      0.89      0.89        70\n",
      "\n"
     ]
    }
   ],
   "source": [
    "#Classification report\n",
    "target_names = ['Bishop','Knight','Pawn','Queen','Rook']\n",
    "class_report = classification_report(test_set_upd.classes, total_test, target_names=target_names)\n",
    "print(class_report)"
   ]
  },
  {
   "cell_type": "markdown",
   "id": "40609c75",
   "metadata": {},
   "source": [
    "# Implementing the RESNET"
   ]
  },
  {
   "cell_type": "code",
   "execution_count": 199,
   "id": "b3b52344",
   "metadata": {},
   "outputs": [],
   "source": [
    "resnet = ResNet50(input_shape=IMAGE_SIZE + [3], weights='imagenet', include_top=False)"
   ]
  },
  {
   "cell_type": "code",
   "execution_count": 200,
   "id": "7027c3cb",
   "metadata": {},
   "outputs": [],
   "source": [
    "# don't train existing weights\n",
    "for layer in resnet.layers:\n",
    "    layer.trainable = False"
   ]
  },
  {
   "cell_type": "code",
   "execution_count": 201,
   "id": "40f59feb",
   "metadata": {},
   "outputs": [],
   "source": [
    "# useful for getting number of output classes\n",
    "folders = glob('tranformed_split_images_upd_1/train/*')"
   ]
  },
  {
   "cell_type": "code",
   "execution_count": 202,
   "id": "9172ef46",
   "metadata": {},
   "outputs": [],
   "source": [
    "# our layers - you can add more if you want\n",
    "x = Flatten()(resnet.output)"
   ]
  },
  {
   "cell_type": "code",
   "execution_count": 203,
   "id": "841b9b65",
   "metadata": {},
   "outputs": [],
   "source": [
    "prediction = Dense(len(folders), activation='softmax')(x)\n",
    "\n",
    "# create a model object\n",
    "model_resnet = Model(inputs=resnet.input, outputs=prediction)"
   ]
  },
  {
   "cell_type": "code",
   "execution_count": 204,
   "id": "26d5d3fc",
   "metadata": {},
   "outputs": [],
   "source": [
    "# tell the model what cost and optimization method to use\n",
    "model_resnet.compile(\n",
    "  loss='categorical_crossentropy',\n",
    "  optimizer='adam',\n",
    "  metrics=['accuracy']\n",
    ")"
   ]
  },
  {
   "cell_type": "code",
   "execution_count": 205,
   "id": "e108eac3",
   "metadata": {},
   "outputs": [],
   "source": [
    "# Use the Image Data Generator to import the images from the dataset\n",
    "from tensorflow.keras.preprocessing.image import ImageDataGenerator\n",
    "\n",
    "train_datagen = ImageDataGenerator(rescale = 1./255,\n",
    "                                   horizontal_flip = True)\n",
    "\n",
    "test_datagen = ImageDataGenerator(rescale = 1./255)"
   ]
  },
  {
   "cell_type": "code",
   "execution_count": 206,
   "id": "70ab07b6",
   "metadata": {},
   "outputs": [
    {
     "name": "stdout",
     "output_type": "stream",
     "text": [
      "Found 2534 images belonging to 5 classes.\n"
     ]
    }
   ],
   "source": [
    "# Make sure you provide the same target size as initialied for the image size\n",
    "training_set = train_datagen.flow_from_directory('tranformed_split_images_upd_1/train',\n",
    "                                                 target_size = (224,224),\n",
    "                                                 batch_size = 32,\n",
    "                                                 class_mode = 'categorical')"
   ]
  },
  {
   "cell_type": "code",
   "execution_count": 207,
   "id": "33790dd0",
   "metadata": {},
   "outputs": [
    {
     "name": "stdout",
     "output_type": "stream",
     "text": [
      "Found 128 images belonging to 5 classes.\n"
     ]
    }
   ],
   "source": [
    "test_set = test_datagen.flow_from_directory('tranformed_split_images_upd_1/val',\n",
    "                                            target_size = (224,224),\n",
    "                                            batch_size = 32,\n",
    "                                            class_mode = 'categorical')"
   ]
  },
  {
   "cell_type": "code",
   "execution_count": 208,
   "id": "4718f174",
   "metadata": {},
   "outputs": [
    {
     "name": "stderr",
     "output_type": "stream",
     "text": [
      "<ipython-input-208-8c3bc1ed5aa0>:3: UserWarning: `Model.fit_generator` is deprecated and will be removed in a future version. Please use `Model.fit`, which supports generators.\n",
      "  r = model_resnet.fit_generator(\n"
     ]
    },
    {
     "name": "stdout",
     "output_type": "stream",
     "text": [
      "Epoch 1/20\n",
      "80/80 [==============================] - 26s 262ms/step - loss: 3.2628 - accuracy: 0.3425 - val_loss: 1.9148 - val_accuracy: 0.4609\n",
      "Epoch 2/20\n",
      "80/80 [==============================] - 15s 189ms/step - loss: 1.4758 - accuracy: 0.4799 - val_loss: 1.1953 - val_accuracy: 0.5078\n",
      "Epoch 3/20\n",
      "80/80 [==============================] - 27s 332ms/step - loss: 1.2405 - accuracy: 0.5430 - val_loss: 1.0445 - val_accuracy: 0.6016\n",
      "Epoch 4/20\n",
      "80/80 [==============================] - 28s 351ms/step - loss: 1.2180 - accuracy: 0.5627 - val_loss: 1.0979 - val_accuracy: 0.5859\n",
      "Epoch 5/20\n",
      "80/80 [==============================] - 14s 178ms/step - loss: 1.4058 - accuracy: 0.5564 - val_loss: 1.6165 - val_accuracy: 0.5156\n",
      "Epoch 6/20\n",
      "80/80 [==============================] - 14s 179ms/step - loss: 1.2164 - accuracy: 0.5908 - val_loss: 1.4037 - val_accuracy: 0.5547\n",
      "Epoch 7/20\n",
      "80/80 [==============================] - 15s 181ms/step - loss: 0.9697 - accuracy: 0.6433 - val_loss: 0.9053 - val_accuracy: 0.6562\n",
      "Epoch 8/20\n",
      "80/80 [==============================] - 21s 256ms/step - loss: 1.0814 - accuracy: 0.6267 - val_loss: 1.4843 - val_accuracy: 0.5781\n",
      "Epoch 9/20\n",
      "80/80 [==============================] - 26s 329ms/step - loss: 1.0263 - accuracy: 0.6405 - val_loss: 1.3689 - val_accuracy: 0.6016\n",
      "Epoch 10/20\n",
      "80/80 [==============================] - 20s 252ms/step - loss: 0.9200 - accuracy: 0.6543 - val_loss: 1.0478 - val_accuracy: 0.5781\n",
      "Epoch 11/20\n",
      "80/80 [==============================] - 15s 185ms/step - loss: 0.8881 - accuracy: 0.6811 - val_loss: 1.1119 - val_accuracy: 0.6484\n",
      "Epoch 12/20\n",
      "80/80 [==============================] - 16s 195ms/step - loss: 1.0164 - accuracy: 0.6579 - val_loss: 1.4684 - val_accuracy: 0.5547\n",
      "Epoch 13/20\n",
      "80/80 [==============================] - 34s 429ms/step - loss: 0.9189 - accuracy: 0.6792 - val_loss: 0.8961 - val_accuracy: 0.7031\n",
      "Epoch 14/20\n",
      "80/80 [==============================] - 30s 369ms/step - loss: 1.0154 - accuracy: 0.6622 - val_loss: 1.0784 - val_accuracy: 0.6562\n",
      "Epoch 15/20\n",
      "80/80 [==============================] - 28s 354ms/step - loss: 0.8674 - accuracy: 0.6946 - val_loss: 0.9928 - val_accuracy: 0.6953\n",
      "Epoch 16/20\n",
      "80/80 [==============================] - 28s 355ms/step - loss: 1.0009 - accuracy: 0.6803 - val_loss: 0.8057 - val_accuracy: 0.7344\n",
      "Epoch 17/20\n",
      "80/80 [==============================] - 37s 463ms/step - loss: 1.0342 - accuracy: 0.6792 - val_loss: 1.1216 - val_accuracy: 0.6875\n",
      "Epoch 18/20\n",
      "80/80 [==============================] - 32s 391ms/step - loss: 0.9416 - accuracy: 0.6886 - val_loss: 1.4138 - val_accuracy: 0.6016\n",
      "Epoch 19/20\n",
      "80/80 [==============================] - 28s 354ms/step - loss: 0.8135 - accuracy: 0.7198 - val_loss: 0.8663 - val_accuracy: 0.7109\n",
      "Epoch 20/20\n",
      "80/80 [==============================] - 28s 356ms/step - loss: 0.7222 - accuracy: 0.7459 - val_loss: 0.8605 - val_accuracy: 0.6953\n"
     ]
    }
   ],
   "source": [
    "# fit the model\n",
    "# Run the cell. It will take some time to execute\n",
    "r = model_resnet.fit_generator(\n",
    "  training_set,\n",
    "  validation_data=test_set,\n",
    "  epochs=20,\n",
    "  steps_per_epoch=len(training_set),\n",
    "  validation_steps=len(test_set)\n",
    ")"
   ]
  },
  {
   "cell_type": "code",
   "execution_count": 209,
   "id": "1423bd37",
   "metadata": {},
   "outputs": [
    {
     "data": {
      "image/png": "[encoded data removed]",
      "text/plain": [
       "<Figure size 432x288 with 1 Axes>"
      ]
     },
     "metadata": {
      "needs_background": "light"
     },
     "output_type": "display_data"
    },
    {
     "data": {
      "image/png": "[encoded data removed]",
      "text/plain": [
       "<Figure size 432x288 with 1 Axes>"
      ]
     },
     "metadata": {
      "needs_background": "light"
     },
     "output_type": "display_data"
    }
   ],
   "source": [
    "import matplotlib.pyplot as plt\n",
    "# plot the loss\n",
    "plt.plot(r.history['loss'], label='train loss')\n",
    "plt.plot(r.history['val_loss'], label='val loss')\n",
    "plt.legend()\n",
    "plt.show()\n",
    "\n",
    "\n",
    "# plot the accuracy\n",
    "plt.plot(r.history['accuracy'], label='train acc')\n",
    "plt.plot(r.history['val_accuracy'], label='val acc')\n",
    "plt.legend()\n",
    "plt.show()"
   ]
  },
  {
   "cell_type": "code",
   "execution_count": 210,
   "id": "ece06a89",
   "metadata": {},
   "outputs": [],
   "source": [
    "# save it as a h5 file\n",
    "from tensorflow.keras.models import load_model\n",
    "\n",
    "model_resnet.save('model_resnet.h5')"
   ]
  },
  {
   "cell_type": "code",
   "execution_count": 211,
   "id": "108ef9f4",
   "metadata": {},
   "outputs": [],
   "source": [
    "from tensorflow.keras.models import load_model\n",
    "from tensorflow.keras.preprocessing import image"
   ]
  },
  {
   "cell_type": "code",
   "execution_count": 212,
   "id": "23027ddb",
   "metadata": {},
   "outputs": [],
   "source": [
    "model=load_model('model_resnet.h5')"
   ]
  },
  {
   "cell_type": "code",
   "execution_count": 213,
   "id": "1b721754",
   "metadata": {
    "scrolled": true
   },
   "outputs": [
    {
     "name": "stdout",
     "output_type": "stream",
     "text": [
      "1/1 [==============================] - 1s 1s/step\n",
      "1/1 [==============================] - 0s 31ms/step\n",
      "1/1 [==============================] - 0s 30ms/step\n",
      "1/1 [==============================] - 0s 33ms/step\n",
      "1/1 [==============================] - 0s 32ms/step\n",
      "1/1 [==============================] - 0s 31ms/step\n",
      "1/1 [==============================] - 0s 33ms/step\n",
      "1/1 [==============================] - 0s 39ms/step\n",
      "1/1 [==============================] - 0s 35ms/step\n",
      "1/1 [==============================] - 0s 30ms/step\n",
      "1/1 [==============================] - 0s 32ms/step\n",
      "1/1 [==============================] - 0s 30ms/step\n",
      "1/1 [==============================] - 0s 30ms/step\n",
      "1/1 [==============================] - 0s 33ms/step\n",
      "1/1 [==============================] - 0s 30ms/step\n",
      "1/1 [==============================] - 0s 30ms/step\n",
      "1/1 [==============================] - 0s 29ms/step\n",
      "1/1 [==============================] - 0s 30ms/step\n",
      "1/1 [==============================] - 0s 28ms/step\n",
      "1/1 [==============================] - 0s 32ms/step\n",
      "1/1 [==============================] - 0s 33ms/step\n",
      "1/1 [==============================] - 0s 27ms/step\n",
      "1/1 [==============================] - 0s 28ms/step\n",
      "1/1 [==============================] - 0s 32ms/step\n",
      "1/1 [==============================] - 0s 29ms/step\n",
      "1/1 [==============================] - 0s 28ms/step\n",
      "1/1 [==============================] - 0s 29ms/step\n",
      "1/1 [==============================] - 0s 30ms/step\n",
      "1/1 [==============================] - 0s 38ms/step\n",
      "1/1 [==============================] - 0s 30ms/step\n",
      "1/1 [==============================] - 0s 31ms/step\n",
      "1/1 [==============================] - 0s 33ms/step\n",
      "1/1 [==============================] - 0s 42ms/step\n",
      "1/1 [==============================] - 0s 67ms/step\n",
      "1/1 [==============================] - 0s 33ms/step\n",
      "1/1 [==============================] - 0s 28ms/step\n",
      "1/1 [==============================] - 0s 28ms/step\n",
      "1/1 [==============================] - 0s 36ms/step\n",
      "1/1 [==============================] - 0s 28ms/step\n",
      "1/1 [==============================] - 0s 27ms/step\n",
      "1/1 [==============================] - 0s 29ms/step\n",
      "1/1 [==============================] - 0s 29ms/step\n",
      "1/1 [==============================] - 0s 31ms/step\n",
      "1/1 [==============================] - 0s 40ms/step\n",
      "1/1 [==============================] - 0s 30ms/step\n",
      "1/1 [==============================] - 0s 30ms/step\n",
      "1/1 [==============================] - 0s 28ms/step\n",
      "1/1 [==============================] - 0s 54ms/step\n",
      "1/1 [==============================] - 0s 58ms/step\n",
      "1/1 [==============================] - 0s 38ms/step\n",
      "1/1 [==============================] - 0s 30ms/step\n",
      "1/1 [==============================] - 0s 32ms/step\n",
      "1/1 [==============================] - 0s 28ms/step\n",
      "1/1 [==============================] - 0s 29ms/step\n",
      "1/1 [==============================] - 0s 31ms/step\n",
      "1/1 [==============================] - 0s 29ms/step\n",
      "1/1 [==============================] - 0s 31ms/step\n",
      "1/1 [==============================] - 0s 29ms/step\n",
      "1/1 [==============================] - 0s 30ms/step\n",
      "1/1 [==============================] - 0s 28ms/step\n",
      "1/1 [==============================] - 0s 29ms/step\n",
      "1/1 [==============================] - 0s 30ms/step\n",
      "1/1 [==============================] - 0s 32ms/step\n",
      "1/1 [==============================] - 0s 33ms/step\n",
      "1/1 [==============================] - 0s 32ms/step\n",
      "1/1 [==============================] - 0s 30ms/step\n",
      "1/1 [==============================] - 0s 56ms/step\n",
      "1/1 [==============================] - 0s 46ms/step\n",
      "1/1 [==============================] - 0s 33ms/step\n",
      "1/1 [==============================] - 0s 32ms/step\n",
      "1/1 [==============================] - 0s 29ms/step\n",
      "1/1 [==============================] - 0s 28ms/step\n",
      "1/1 [==============================] - 0s 29ms/step\n",
      "1/1 [==============================] - 0s 29ms/step\n",
      "1/1 [==============================] - 0s 30ms/step\n",
      "1/1 [==============================] - 0s 29ms/step\n",
      "1/1 [==============================] - 0s 29ms/step\n",
      "1/1 [==============================] - 0s 29ms/step\n",
      "1/1 [==============================] - 0s 29ms/step\n",
      "1/1 [==============================] - 0s 31ms/step\n",
      "1/1 [==============================] - 0s 29ms/step\n",
      "1/1 [==============================] - 0s 28ms/step\n",
      "1/1 [==============================] - 0s 31ms/step\n",
      "1/1 [==============================] - 0s 32ms/step\n",
      "1/1 [==============================] - 0s 35ms/step\n",
      "1/1 [==============================] - 0s 37ms/step\n",
      "1/1 [==============================] - 0s 32ms/step\n",
      "1/1 [==============================] - 0s 30ms/step\n",
      "1/1 [==============================] - 0s 30ms/step\n",
      "1/1 [==============================] - 0s 30ms/step\n",
      "1/1 [==============================] - 0s 28ms/step\n",
      "1/1 [==============================] - 0s 30ms/step\n",
      "1/1 [==============================] - 0s 32ms/step\n",
      "1/1 [==============================] - 0s 29ms/step\n",
      "1/1 [==============================] - 0s 30ms/step\n",
      "1/1 [==============================] - 0s 28ms/step\n",
      "1/1 [==============================] - 0s 30ms/step\n",
      "1/1 [==============================] - 0s 30ms/step\n",
      "1/1 [==============================] - 0s 31ms/step\n",
      "1/1 [==============================] - 0s 30ms/step\n",
      "1/1 [==============================] - 0s 28ms/step\n",
      "1/1 [==============================] - 0s 29ms/step\n",
      "1/1 [==============================] - 0s 30ms/step\n",
      "1/1 [==============================] - 0s 55ms/step\n",
      "1/1 [==============================] - 0s 59ms/step\n",
      "1/1 [==============================] - 0s 28ms/step\n",
      "1/1 [==============================] - 0s 31ms/step\n",
      "1/1 [==============================] - 0s 29ms/step\n",
      "1/1 [==============================] - 0s 31ms/step\n",
      "1/1 [==============================] - 0s 29ms/step\n",
      "1/1 [==============================] - 0s 28ms/step\n",
      "1/1 [==============================] - 0s 30ms/step\n",
      "1/1 [==============================] - 0s 29ms/step\n",
      "1/1 [==============================] - 0s 63ms/step\n",
      "1/1 [==============================] - 0s 54ms/step\n",
      "1/1 [==============================] - 0s 56ms/step\n",
      "1/1 [==============================] - 0s 46ms/step\n",
      "1/1 [==============================] - 0s 47ms/step\n",
      "1/1 [==============================] - 0s 42ms/step\n",
      "1/1 [==============================] - 0s 34ms/step\n",
      "1/1 [==============================] - 0s 31ms/step\n",
      "1/1 [==============================] - 0s 31ms/step\n",
      "1/1 [==============================] - 0s 28ms/step\n",
      "1/1 [==============================] - 0s 31ms/step\n",
      "1/1 [==============================] - 0s 28ms/step\n",
      "1/1 [==============================] - 0s 28ms/step\n",
      "1/1 [==============================] - 0s 28ms/step\n",
      "1/1 [==============================] - 0s 35ms/step\n",
      "1/1 [==============================] - 0s 31ms/step\n",
      "1/1 [==============================] - 0s 29ms/step\n",
      "1/1 [==============================] - 0s 30ms/step\n",
      "1/1 [==============================] - 0s 34ms/step\n",
      "1/1 [==============================] - 0s 31ms/step\n",
      "1/1 [==============================] - 0s 30ms/step\n",
      "1/1 [==============================] - 0s 28ms/step\n",
      "1/1 [==============================] - 0s 28ms/step\n",
      "1/1 [==============================] - 0s 28ms/step\n",
      "1/1 [==============================] - 0s 29ms/step\n",
      "1/1 [==============================] - 0s 34ms/step\n",
      "1/1 [==============================] - 0s 29ms/step\n"
     ]
    }
   ],
   "source": [
    "bishop_resize=[]\n",
    "for files in os.listdir(\"C:/Users/RUPAK/OneDrive/Desktop/Assignment/tranformed_split_images_upd_1/test/bishop_resized\"):\n",
    "    #print(files)\n",
    "    img=image.load_img('C:/Users/RUPAK/OneDrive/Desktop/Assignment/tranformed_split_images_upd_1/test/bishop_resized/'+files,target_size=(224,224))\n",
    "    x=image.img_to_array(img)\n",
    "    x=np.expand_dims(x,axis=0)\n",
    "    img_data=preprocess_input(x)\n",
    "    model.predict(img_data)\n",
    "    a=np.argmax(model.predict(img_data), axis=1)\n",
    "    bishop_resize.append(a)\n",
    "\n",
    "knight_resize=[]\n",
    "for files in os.listdir(\"C:/Users/RUPAK/OneDrive/Desktop/Assignment/tranformed_split_images_upd_1/test/knight_resize\"):\n",
    "    #print(files)\n",
    "    img=image.load_img('C:/Users/RUPAK/OneDrive/Desktop/Assignment/tranformed_split_images_upd_1/test/knight_resize/'+files,target_size=(224,224))\n",
    "    x=image.img_to_array(img)\n",
    "    x=np.expand_dims(x,axis=0)\n",
    "    img_data=preprocess_input(x)\n",
    "    model.predict(img_data)\n",
    "    a=np.argmax(model.predict(img_data), axis=1)\n",
    "    knight_resize.append(a)\n",
    "    \n",
    "pawn_resize=[]\n",
    "for files in os.listdir(\"C:/Users/RUPAK/OneDrive/Desktop/Assignment/tranformed_split_images_upd_1/test/pawn_resized\"):\n",
    "    #print(files)\n",
    "    img=image.load_img('C:/Users/RUPAK/OneDrive/Desktop/Assignment/tranformed_split_images_upd_1/test/pawn_resized/'+files,target_size=(224,224))\n",
    "    x=image.img_to_array(img)\n",
    "    x=np.expand_dims(x,axis=0)\n",
    "    img_data=preprocess_input(x)\n",
    "    model.predict(img_data)\n",
    "    a=np.argmax(model.predict(img_data), axis=1)\n",
    "    pawn_resize.append(a)\n",
    "    \n",
    "    \n",
    "queen_resized=[]\n",
    "for files in os.listdir(\"C:/Users/RUPAK/OneDrive/Desktop/Assignment/tranformed_split_images_upd_1/test/queen_resized\"):\n",
    "    #print(files)\n",
    "    img=image.load_img('C:/Users/RUPAK/OneDrive/Desktop/Assignment/tranformed_split_images_upd_1/test/queen_resized/'+files,target_size=(224,224))\n",
    "    x=image.img_to_array(img)\n",
    "    x=np.expand_dims(x,axis=0)\n",
    "    img_data=preprocess_input(x)\n",
    "    model.predict(img_data)\n",
    "    a=np.argmax(model.predict(img_data), axis=1)\n",
    "    queen_resized.append(a)\n",
    "    \n",
    "rook_resize=[]\n",
    "for files in os.listdir(\"C:/Users/RUPAK/OneDrive/Desktop/Assignment/tranformed_split_images_upd_1/test/rook_resize\"):\n",
    "    #print(files)\n",
    "    img=image.load_img('C:/Users/RUPAK/OneDrive/Desktop/Assignment/tranformed_split_images_upd_1/test/rook_resize/'+files,target_size=(224,224))\n",
    "    x=image.img_to_array(img)\n",
    "    x=np.expand_dims(x,axis=0)\n",
    "    img_data=preprocess_input(x)\n",
    "    model.predict(img_data)\n",
    "    a=np.argmax(model.predict(img_data), axis=1)\n",
    "    rook_resize.append(a)"
   ]
  },
  {
   "cell_type": "code",
   "execution_count": 218,
   "id": "afcfd98b",
   "metadata": {},
   "outputs": [
    {
     "data": {
      "text/plain": [
       "[array([4], dtype=int64),\n",
       " array([4], dtype=int64),\n",
       " array([3], dtype=int64),\n",
       " array([0], dtype=int64),\n",
       " array([1], dtype=int64),\n",
       " array([4], dtype=int64),\n",
       " array([0], dtype=int64),\n",
       " array([4], dtype=int64),\n",
       " array([4], dtype=int64),\n",
       " array([2], dtype=int64),\n",
       " array([0], dtype=int64),\n",
       " array([1], dtype=int64),\n",
       " array([1], dtype=int64),\n",
       " array([4], dtype=int64),\n",
       " array([0], dtype=int64)]"
      ]
     },
     "execution_count": 218,
     "metadata": {},
     "output_type": "execute_result"
    }
   ],
   "source": [
    "rook_resize"
   ]
  },
  {
   "cell_type": "code",
   "execution_count": 219,
   "id": "9d3b1866",
   "metadata": {},
   "outputs": [
    {
     "data": {
      "text/plain": [
       "70"
      ]
     },
     "execution_count": 219,
     "metadata": {},
     "output_type": "execute_result"
    }
   ],
   "source": [
    "total_test = [2,0,2,2,0,0,0,0,0,0,0,0,1,2,0, 1,1,1,1,1,1,1,1,1,1,1,4,1,1,1,1,1,1,0, 2,2,2,2,2,0,2,2,2, 0,4,0,0,3,0,0,1,0,0,0,0, 4,4,3,0,1,4,0,4,4,2,0,1,1,4,0]\n",
    "len(total_test)"
   ]
  },
  {
   "cell_type": "code",
   "execution_count": 220,
   "id": "2ba3952b",
   "metadata": {},
   "outputs": [
    {
     "data": {
      "text/plain": [
       "0.6"
      ]
     },
     "execution_count": 220,
     "metadata": {},
     "output_type": "execute_result"
    }
   ],
   "source": [
    "#Printing the accuracy score\n",
    "accuracy_score(test_set_upd.classes,total_test)"
   ]
  },
  {
   "cell_type": "code",
   "execution_count": 221,
   "id": "36cc8fc8",
   "metadata": {},
   "outputs": [
    {
     "name": "stdout",
     "output_type": "stream",
     "text": [
      "              precision    recall  f1-score   support\n",
      "\n",
      "      Bishop       0.40      0.67      0.50        15\n",
      "      Knight       0.77      0.89      0.83        19\n",
      "        Pawn       0.62      0.89      0.73         9\n",
      "       Queen       0.50      0.08      0.14        12\n",
      "        Rook       0.75      0.40      0.52        15\n",
      "\n",
      "    accuracy                           0.60        70\n",
      "   macro avg       0.61      0.59      0.54        70\n",
      "weighted avg       0.62      0.60      0.56        70\n",
      "\n"
     ]
    }
   ],
   "source": [
    "#Classification report\n",
    "target_names = ['Bishop','Knight','Pawn','Queen','Rook']\n",
    "class_report = classification_report(test_set_upd.classes, total_test, target_names=target_names)\n",
    "print(class_report)"
   ]
  },
  {
   "cell_type": "markdown",
   "id": "47909f17",
   "metadata": {},
   "source": [
    "# Implementation of Inception"
   ]
  },
  {
   "cell_type": "code",
   "execution_count": 166,
   "id": "e49e2fdd",
   "metadata": {},
   "outputs": [],
   "source": [
    "inception = InceptionV3(input_shape=IMAGE_SIZE + [3], weights='imagenet', include_top=False)"
   ]
  },
  {
   "cell_type": "code",
   "execution_count": 167,
   "id": "090a05f7",
   "metadata": {},
   "outputs": [],
   "source": [
    "# don't train existing weights\n",
    "for layer in inception.layers:\n",
    "    layer.trainable = False"
   ]
  },
  {
   "cell_type": "code",
   "execution_count": 168,
   "id": "7d7b6f4e",
   "metadata": {},
   "outputs": [],
   "source": [
    "# useful for getting number of output classes\n",
    "folders = glob('tranformed_split_images_upd_1/train/*')"
   ]
  },
  {
   "cell_type": "code",
   "execution_count": 169,
   "id": "82ff30a4",
   "metadata": {},
   "outputs": [],
   "source": [
    "# our layers - you can add more if you want\n",
    "x = Flatten()(inception.output)"
   ]
  },
  {
   "cell_type": "code",
   "execution_count": 170,
   "id": "d568ceb1",
   "metadata": {},
   "outputs": [],
   "source": [
    "prediction = Dense(len(folders), activation='softmax')(x)\n",
    "# create a model object\n",
    "model_inception = Model(inputs=inception.input, outputs=prediction)"
   ]
  },
  {
   "cell_type": "code",
   "execution_count": 171,
   "id": "e1f9105b",
   "metadata": {},
   "outputs": [],
   "source": [
    "# tell the model what cost and optimization method to use\n",
    "model_inception.compile(\n",
    "  loss='categorical_crossentropy',\n",
    "  optimizer='adam',\n",
    "  metrics=['accuracy']\n",
    ")"
   ]
  },
  {
   "cell_type": "code",
   "execution_count": 182,
   "id": "c63a1ede",
   "metadata": {},
   "outputs": [],
   "source": [
    "# Use the Image Data Generator to import the images from the dataset\n",
    "from tensorflow.keras.preprocessing.image import ImageDataGenerator\n",
    "\n",
    "train_datagen = ImageDataGenerator(rescale = 1./255,horizontal_flip = True)\n",
    "\n",
    "test_datagen = ImageDataGenerator(rescale = 1./255)"
   ]
  },
  {
   "cell_type": "code",
   "execution_count": 183,
   "id": "8922a74c",
   "metadata": {},
   "outputs": [
    {
     "name": "stdout",
     "output_type": "stream",
     "text": [
      "Found 2534 images belonging to 5 classes.\n"
     ]
    }
   ],
   "source": [
    "# Make sure you provide the same target size as initialied for the image size\n",
    "training_set = train_datagen.flow_from_directory('tranformed_split_images_upd_1/train',\n",
    "                                                 target_size = (224,224),\n",
    "                                                 batch_size = 32,\n",
    "                                                 class_mode = 'categorical')"
   ]
  },
  {
   "cell_type": "code",
   "execution_count": 184,
   "id": "07e1252c",
   "metadata": {},
   "outputs": [
    {
     "name": "stdout",
     "output_type": "stream",
     "text": [
      "Found 128 images belonging to 5 classes.\n"
     ]
    }
   ],
   "source": [
    "test_set = test_datagen.flow_from_directory('tranformed_split_images_upd_1/val',\n",
    "                                            target_size = (224,224),\n",
    "                                            batch_size = 32,\n",
    "                                            class_mode = 'categorical')"
   ]
  },
  {
   "cell_type": "code",
   "execution_count": 185,
   "id": "16181c98",
   "metadata": {},
   "outputs": [
    {
     "name": "stdout",
     "output_type": "stream",
     "text": [
      "Epoch 1/20\n"
     ]
    },
    {
     "name": "stderr",
     "output_type": "stream",
     "text": [
      "<ipython-input-185-5437ff5875b1>:3: UserWarning: `Model.fit_generator` is deprecated and will be removed in a future version. Please use `Model.fit`, which supports generators.\n",
      "  r = model_inception.fit_generator(\n"
     ]
    },
    {
     "name": "stdout",
     "output_type": "stream",
     "text": [
      "80/80 [==============================] - 10s 126ms/step - loss: 0.9087 - accuracy: 0.8311 - val_loss: 1.1242 - val_accuracy: 0.8438\n",
      "Epoch 2/20\n",
      "80/80 [==============================] - 14s 175ms/step - loss: 0.4763 - accuracy: 0.8836 - val_loss: 1.0253 - val_accuracy: 0.8438\n",
      "Epoch 3/20\n",
      "80/80 [==============================] - 12s 144ms/step - loss: 0.7402 - accuracy: 0.8733 - val_loss: 0.8490 - val_accuracy: 0.8750\n",
      "Epoch 4/20\n",
      "80/80 [==============================] - 11s 133ms/step - loss: 0.3675 - accuracy: 0.9187 - val_loss: 1.0976 - val_accuracy: 0.9297\n",
      "Epoch 5/20\n",
      "80/80 [==============================] - 11s 135ms/step - loss: 0.3210 - accuracy: 0.9313 - val_loss: 1.0702 - val_accuracy: 0.8516\n",
      "Epoch 6/20\n",
      "80/80 [==============================] - 11s 139ms/step - loss: 0.2678 - accuracy: 0.9455 - val_loss: 0.8591 - val_accuracy: 0.9141\n",
      "Epoch 7/20\n",
      "80/80 [==============================] - 11s 138ms/step - loss: 0.2333 - accuracy: 0.9566 - val_loss: 1.5329 - val_accuracy: 0.9062\n",
      "Epoch 8/20\n",
      "80/80 [==============================] - 11s 135ms/step - loss: 0.2123 - accuracy: 0.9534 - val_loss: 1.9554 - val_accuracy: 0.8672\n",
      "Epoch 9/20\n",
      "80/80 [==============================] - 12s 147ms/step - loss: 0.1677 - accuracy: 0.9657 - val_loss: 1.4082 - val_accuracy: 0.8984\n",
      "Epoch 10/20\n",
      "80/80 [==============================] - 12s 143ms/step - loss: 0.2149 - accuracy: 0.9621 - val_loss: 2.1203 - val_accuracy: 0.8438\n",
      "Epoch 11/20\n",
      "80/80 [==============================] - 11s 142ms/step - loss: 0.5300 - accuracy: 0.9175 - val_loss: 2.3442 - val_accuracy: 0.8594\n",
      "Epoch 12/20\n",
      "80/80 [==============================] - 12s 147ms/step - loss: 0.4424 - accuracy: 0.9317 - val_loss: 2.0839 - val_accuracy: 0.8750\n",
      "Epoch 13/20\n",
      "80/80 [==============================] - 11s 140ms/step - loss: 0.2489 - accuracy: 0.9554 - val_loss: 2.3319 - val_accuracy: 0.8906\n",
      "Epoch 14/20\n",
      "80/80 [==============================] - 11s 141ms/step - loss: 0.1377 - accuracy: 0.9740 - val_loss: 1.9366 - val_accuracy: 0.8984\n",
      "Epoch 15/20\n",
      "80/80 [==============================] - 14s 170ms/step - loss: 0.1026 - accuracy: 0.9767 - val_loss: 2.2922 - val_accuracy: 0.8828\n",
      "Epoch 16/20\n",
      "80/80 [==============================] - 11s 138ms/step - loss: 0.0914 - accuracy: 0.9799 - val_loss: 2.6131 - val_accuracy: 0.8672\n",
      "Epoch 17/20\n",
      "80/80 [==============================] - 10s 130ms/step - loss: 0.2174 - accuracy: 0.9641 - val_loss: 1.9467 - val_accuracy: 0.8672\n",
      "Epoch 18/20\n",
      "80/80 [==============================] - 11s 133ms/step - loss: 0.1230 - accuracy: 0.9791 - val_loss: 2.0229 - val_accuracy: 0.8750\n",
      "Epoch 19/20\n",
      "80/80 [==============================] - 11s 132ms/step - loss: 0.1096 - accuracy: 0.9795 - val_loss: 1.6957 - val_accuracy: 0.9141\n",
      "Epoch 20/20\n",
      "80/80 [==============================] - 11s 136ms/step - loss: 0.1675 - accuracy: 0.9763 - val_loss: 1.5358 - val_accuracy: 0.9141\n"
     ]
    }
   ],
   "source": [
    "# fit the model\n",
    "# Run the cell. It will take some time to execute\n",
    "r = model_inception.fit_generator(\n",
    "  training_set,\n",
    "  validation_data=test_set,\n",
    "  epochs=20,\n",
    "  steps_per_epoch=len(training_set),\n",
    "  validation_steps=len(test_set),\n",
    ")"
   ]
  },
  {
   "cell_type": "code",
   "execution_count": 186,
   "id": "5c375763",
   "metadata": {},
   "outputs": [
    {
     "data": {
      "image/png": "[encoded data removed]",
      "text/plain": [
       "<Figure size 432x288 with 1 Axes>"
      ]
     },
     "metadata": {
      "needs_background": "light"
     },
     "output_type": "display_data"
    },
    {
     "data": {
      "image/png": "[encoded data removed]",
      "text/plain": [
       "<Figure size 432x288 with 1 Axes>"
      ]
     },
     "metadata": {
      "needs_background": "light"
     },
     "output_type": "display_data"
    }
   ],
   "source": [
    "import matplotlib.pyplot as plt\n",
    "# plot the loss\n",
    "plt.plot(r.history['loss'], label='train loss')\n",
    "plt.plot(r.history['val_loss'], label='val loss')\n",
    "plt.legend()\n",
    "plt.show()\n",
    "\n",
    "\n",
    "# plot the accuracy\n",
    "plt.plot(r.history['accuracy'], label='train acc')\n",
    "plt.plot(r.history['val_accuracy'], label='val acc')\n",
    "plt.legend()\n",
    "plt.show()\n"
   ]
  },
  {
   "cell_type": "code",
   "execution_count": 187,
   "id": "5194e15f",
   "metadata": {},
   "outputs": [],
   "source": [
    "# save it as a h5 file\n",
    "from tensorflow.keras.models import load_model\n",
    "\n",
    "model_inception.save('model_inception.h5')"
   ]
  },
  {
   "cell_type": "code",
   "execution_count": 188,
   "id": "7a26baaa",
   "metadata": {},
   "outputs": [],
   "source": [
    "from tensorflow.keras.models import load_model\n",
    "from tensorflow.keras.preprocessing import image"
   ]
  },
  {
   "cell_type": "code",
   "execution_count": 189,
   "id": "1a4341a0",
   "metadata": {},
   "outputs": [],
   "source": [
    "model=load_model('model_inception.h5')"
   ]
  },
  {
   "cell_type": "code",
   "execution_count": 190,
   "id": "92c3f2db",
   "metadata": {
    "collapsed": true
   },
   "outputs": [
    {
     "name": "stdout",
     "output_type": "stream",
     "text": [
      "1/1 [==============================] - 1s 1s/step\n",
      "1/1 [==============================] - 0s 27ms/step\n",
      "1/1 [==============================] - 0s 29ms/step\n",
      "1/1 [==============================] - 0s 31ms/step\n",
      "1/1 [==============================] - 0s 31ms/step\n",
      "1/1 [==============================] - 0s 59ms/step\n",
      "1/1 [==============================] - 0s 40ms/step\n",
      "1/1 [==============================] - 0s 37ms/step\n",
      "1/1 [==============================] - 0s 41ms/step\n",
      "1/1 [==============================] - 0s 47ms/step\n",
      "1/1 [==============================] - 0s 36ms/step\n",
      "1/1 [==============================] - 0s 37ms/step\n",
      "1/1 [==============================] - 0s 30ms/step\n",
      "1/1 [==============================] - 0s 41ms/step\n",
      "1/1 [==============================] - 0s 38ms/step\n",
      "1/1 [==============================] - 0s 45ms/step\n",
      "1/1 [==============================] - 0s 42ms/step\n",
      "1/1 [==============================] - 0s 55ms/step\n",
      "1/1 [==============================] - 0s 35ms/step\n",
      "1/1 [==============================] - 0s 40ms/step\n",
      "1/1 [==============================] - 0s 40ms/step\n",
      "1/1 [==============================] - 0s 45ms/step\n",
      "1/1 [==============================] - 0s 60ms/step\n",
      "1/1 [==============================] - 0s 57ms/step\n",
      "1/1 [==============================] - 0s 41ms/step\n",
      "1/1 [==============================] - 0s 53ms/step\n",
      "1/1 [==============================] - 0s 38ms/step\n",
      "1/1 [==============================] - 0s 33ms/step\n",
      "1/1 [==============================] - 0s 34ms/step\n",
      "1/1 [==============================] - 0s 31ms/step\n",
      "1/1 [==============================] - 0s 47ms/step\n",
      "1/1 [==============================] - 0s 37ms/step\n",
      "1/1 [==============================] - 0s 37ms/step\n",
      "1/1 [==============================] - 0s 40ms/step\n",
      "1/1 [==============================] - 0s 48ms/step\n",
      "1/1 [==============================] - 0s 36ms/step\n",
      "1/1 [==============================] - 0s 32ms/step\n",
      "1/1 [==============================] - 0s 34ms/step\n",
      "1/1 [==============================] - 0s 31ms/step\n",
      "1/1 [==============================] - 0s 33ms/step\n",
      "1/1 [==============================] - 0s 38ms/step\n",
      "1/1 [==============================] - 0s 47ms/step\n",
      "1/1 [==============================] - 0s 34ms/step\n",
      "1/1 [==============================] - 0s 50ms/step\n",
      "1/1 [==============================] - 0s 36ms/step\n",
      "1/1 [==============================] - 0s 36ms/step\n",
      "1/1 [==============================] - 0s 37ms/step\n",
      "1/1 [==============================] - 0s 55ms/step\n",
      "1/1 [==============================] - 0s 41ms/step\n",
      "1/1 [==============================] - 0s 39ms/step\n",
      "1/1 [==============================] - 0s 67ms/step\n",
      "1/1 [==============================] - 0s 46ms/step\n",
      "1/1 [==============================] - 0s 51ms/step\n",
      "1/1 [==============================] - 0s 45ms/step\n",
      "1/1 [==============================] - 0s 43ms/step\n",
      "1/1 [==============================] - 0s 38ms/step\n",
      "1/1 [==============================] - 0s 41ms/step\n",
      "1/1 [==============================] - 0s 33ms/step\n",
      "1/1 [==============================] - 0s 35ms/step\n",
      "1/1 [==============================] - 0s 38ms/step\n",
      "1/1 [==============================] - 0s 33ms/step\n",
      "1/1 [==============================] - 0s 35ms/step\n",
      "1/1 [==============================] - 0s 38ms/step\n",
      "1/1 [==============================] - 0s 30ms/step\n",
      "1/1 [==============================] - 0s 35ms/step\n",
      "1/1 [==============================] - 0s 31ms/step\n",
      "1/1 [==============================] - 0s 35ms/step\n",
      "1/1 [==============================] - 0s 37ms/step\n",
      "1/1 [==============================] - 0s 36ms/step\n",
      "1/1 [==============================] - 0s 36ms/step\n",
      "1/1 [==============================] - 0s 33ms/step\n",
      "1/1 [==============================] - 0s 34ms/step\n",
      "1/1 [==============================] - 0s 36ms/step\n",
      "1/1 [==============================] - 0s 34ms/step\n",
      "1/1 [==============================] - 0s 38ms/step\n",
      "1/1 [==============================] - 0s 42ms/step\n",
      "1/1 [==============================] - 0s 36ms/step\n",
      "1/1 [==============================] - 0s 35ms/step\n",
      "1/1 [==============================] - 0s 31ms/step\n",
      "1/1 [==============================] - 0s 37ms/step\n",
      "1/1 [==============================] - 0s 41ms/step\n",
      "1/1 [==============================] - 0s 41ms/step\n",
      "1/1 [==============================] - 0s 37ms/step\n",
      "1/1 [==============================] - 0s 32ms/step\n",
      "1/1 [==============================] - 0s 32ms/step\n",
      "1/1 [==============================] - 0s 37ms/step\n",
      "1/1 [==============================] - 0s 34ms/step\n",
      "1/1 [==============================] - 0s 29ms/step\n",
      "1/1 [==============================] - 0s 34ms/step\n",
      "1/1 [==============================] - 0s 39ms/step\n",
      "1/1 [==============================] - 0s 33ms/step\n",
      "1/1 [==============================] - 0s 32ms/step\n",
      "1/1 [==============================] - 0s 31ms/step\n",
      "1/1 [==============================] - 0s 39ms/step\n",
      "1/1 [==============================] - 0s 43ms/step\n",
      "1/1 [==============================] - 0s 43ms/step\n",
      "1/1 [==============================] - 0s 37ms/step\n",
      "1/1 [==============================] - 0s 35ms/step\n",
      "1/1 [==============================] - 0s 35ms/step\n",
      "1/1 [==============================] - 0s 38ms/step\n",
      "1/1 [==============================] - 0s 35ms/step\n",
      "1/1 [==============================] - 0s 53ms/step\n",
      "1/1 [==============================] - 0s 37ms/step\n",
      "1/1 [==============================] - 0s 63ms/step\n",
      "1/1 [==============================] - 0s 58ms/step\n",
      "1/1 [==============================] - 0s 47ms/step\n",
      "1/1 [==============================] - 0s 35ms/step\n",
      "1/1 [==============================] - 0s 40ms/step\n",
      "1/1 [==============================] - 0s 30ms/step\n",
      "1/1 [==============================] - 0s 35ms/step\n",
      "1/1 [==============================] - 0s 35ms/step\n",
      "1/1 [==============================] - 0s 43ms/step\n",
      "1/1 [==============================] - 0s 40ms/step\n",
      "1/1 [==============================] - 0s 33ms/step\n",
      "1/1 [==============================] - 0s 30ms/step\n",
      "1/1 [==============================] - 0s 33ms/step\n",
      "1/1 [==============================] - 0s 35ms/step\n",
      "1/1 [==============================] - 0s 49ms/step\n",
      "1/1 [==============================] - 0s 41ms/step\n",
      "1/1 [==============================] - 0s 38ms/step\n",
      "1/1 [==============================] - 0s 33ms/step\n",
      "1/1 [==============================] - 0s 31ms/step\n",
      "1/1 [==============================] - 0s 39ms/step\n",
      "1/1 [==============================] - 0s 35ms/step\n",
      "1/1 [==============================] - 0s 31ms/step\n",
      "1/1 [==============================] - 0s 34ms/step\n",
      "1/1 [==============================] - 0s 34ms/step\n",
      "1/1 [==============================] - 0s 41ms/step\n",
      "1/1 [==============================] - 0s 41ms/step\n",
      "1/1 [==============================] - 0s 35ms/step\n",
      "1/1 [==============================] - 0s 58ms/step\n",
      "1/1 [==============================] - 0s 39ms/step\n",
      "1/1 [==============================] - 0s 36ms/step\n",
      "1/1 [==============================] - 0s 32ms/step\n",
      "1/1 [==============================] - 0s 32ms/step\n",
      "1/1 [==============================] - 0s 42ms/step\n",
      "1/1 [==============================] - 0s 36ms/step\n",
      "1/1 [==============================] - 0s 32ms/step\n",
      "1/1 [==============================] - 0s 40ms/step\n",
      "1/1 [==============================] - 0s 31ms/step\n"
     ]
    }
   ],
   "source": [
    "bishop_resize=[]\n",
    "for files in os.listdir(\"C:/Users/RUPAK/OneDrive/Desktop/Assignment/tranformed_split_images_upd_1/test/bishop_resized\"):\n",
    "    #print(files)\n",
    "    img=image.load_img('C:/Users/RUPAK/OneDrive/Desktop/Assignment/tranformed_split_images_upd_1/test/bishop_resized/'+files,target_size=(224,224))\n",
    "    x=image.img_to_array(img)\n",
    "    x=np.expand_dims(x,axis=0)\n",
    "    img_data=preprocess_input(x)\n",
    "    model.predict(img_data)\n",
    "    a=np.argmax(model.predict(img_data), axis=1)\n",
    "    bishop_resize.append(a)\n",
    "\n",
    "knight_resize=[]\n",
    "for files in os.listdir(\"C:/Users/RUPAK/OneDrive/Desktop/Assignment/tranformed_split_images_upd_1/test/knight_resize\"):\n",
    "    #print(files)\n",
    "    img=image.load_img('C:/Users/RUPAK/OneDrive/Desktop/Assignment/tranformed_split_images_upd_1/test/knight_resize/'+files,target_size=(224,224))\n",
    "    x=image.img_to_array(img)\n",
    "    x=np.expand_dims(x,axis=0)\n",
    "    img_data=preprocess_input(x)\n",
    "    model.predict(img_data)\n",
    "    a=np.argmax(model.predict(img_data), axis=1)\n",
    "    knight_resize.append(a)\n",
    "    \n",
    "pawn_resize=[]\n",
    "for files in os.listdir(\"C:/Users/RUPAK/OneDrive/Desktop/Assignment/tranformed_split_images_upd_1/test/pawn_resized\"):\n",
    "    #print(files)\n",
    "    img=image.load_img('C:/Users/RUPAK/OneDrive/Desktop/Assignment/tranformed_split_images_upd_1/test/pawn_resized/'+files,target_size=(224,224))\n",
    "    x=image.img_to_array(img)\n",
    "    x=np.expand_dims(x,axis=0)\n",
    "    img_data=preprocess_input(x)\n",
    "    model.predict(img_data)\n",
    "    a=np.argmax(model.predict(img_data), axis=1)\n",
    "    pawn_resize.append(a)\n",
    "    \n",
    "    \n",
    "queen_resized=[]\n",
    "for files in os.listdir(\"C:/Users/RUPAK/OneDrive/Desktop/Assignment/tranformed_split_images_upd_1/test/queen_resized\"):\n",
    "    #print(files)\n",
    "    img=image.load_img('C:/Users/RUPAK/OneDrive/Desktop/Assignment/tranformed_split_images_upd_1/test/queen_resized/'+files,target_size=(224,224))\n",
    "    x=image.img_to_array(img)\n",
    "    x=np.expand_dims(x,axis=0)\n",
    "    img_data=preprocess_input(x)\n",
    "    model.predict(img_data)\n",
    "    a=np.argmax(model.predict(img_data), axis=1)\n",
    "    queen_resized.append(a)\n",
    "    \n",
    "rook_resize=[]\n",
    "for files in os.listdir(\"C:/Users/RUPAK/OneDrive/Desktop/Assignment/tranformed_split_images_upd_1/test/rook_resize\"):\n",
    "    #print(files)\n",
    "    img=image.load_img('C:/Users/RUPAK/OneDrive/Desktop/Assignment/tranformed_split_images_upd_1/test/rook_resize/'+files,target_size=(224,224))\n",
    "    x=image.img_to_array(img)\n",
    "    x=np.expand_dims(x,axis=0)\n",
    "    img_data=preprocess_input(x)\n",
    "    model.predict(img_data)\n",
    "    a=np.argmax(model.predict(img_data), axis=1)\n",
    "    rook_resize.append(a)"
   ]
  },
  {
   "cell_type": "code",
   "execution_count": 195,
   "id": "14e2cc6d",
   "metadata": {},
   "outputs": [
    {
     "data": {
      "text/plain": [
       "[array([4], dtype=int64),\n",
       " array([4], dtype=int64),\n",
       " array([4], dtype=int64),\n",
       " array([3], dtype=int64),\n",
       " array([4], dtype=int64),\n",
       " array([4], dtype=int64),\n",
       " array([4], dtype=int64),\n",
       " array([3], dtype=int64),\n",
       " array([4], dtype=int64),\n",
       " array([4], dtype=int64),\n",
       " array([4], dtype=int64),\n",
       " array([4], dtype=int64),\n",
       " array([4], dtype=int64),\n",
       " array([3], dtype=int64),\n",
       " array([4], dtype=int64)]"
      ]
     },
     "execution_count": 195,
     "metadata": {},
     "output_type": "execute_result"
    }
   ],
   "source": [
    "rook_resize"
   ]
  },
  {
   "cell_type": "code",
   "execution_count": 196,
   "id": "4871391f",
   "metadata": {},
   "outputs": [
    {
     "data": {
      "text/plain": [
       "70"
      ]
     },
     "execution_count": 196,
     "metadata": {},
     "output_type": "execute_result"
    }
   ],
   "source": [
    "total_test = [0,0,0,0,0,0,0,0,2,0,3,0,0,0,0, 1,1,1,1,1,1,1,3,1,1,1,1,3,1,1,1,1,1,1, 2,2,2,2,2,3,0,2,0, 3,3,3,3,3,3,3,3,0,3,3, 4,4,4,3,4,4,4,3,4,4,4,4,4,4,3,4]\n",
    "\n",
    "len(total_test)"
   ]
  },
  {
   "cell_type": "code",
   "execution_count": 197,
   "id": "636153e2",
   "metadata": {},
   "outputs": [
    {
     "data": {
      "text/plain": [
       "0.8285714285714286"
      ]
     },
     "execution_count": 197,
     "metadata": {},
     "output_type": "execute_result"
    }
   ],
   "source": [
    "#Printing the accuracy score\n",
    "accuracy_score(test_set_upd.classes,total_test)"
   ]
  },
  {
   "cell_type": "code",
   "execution_count": 198,
   "id": "058c11dd",
   "metadata": {},
   "outputs": [
    {
     "name": "stdout",
     "output_type": "stream",
     "text": [
      "              precision    recall  f1-score   support\n",
      "\n",
      "      Bishop       0.81      0.87      0.84        15\n",
      "      Knight       1.00      0.89      0.94        19\n",
      "        Pawn       0.86      0.67      0.75         9\n",
      "       Queen       0.59      0.83      0.69        12\n",
      "        Rook       0.92      0.80      0.86        15\n",
      "\n",
      "    accuracy                           0.83        70\n",
      "   macro avg       0.84      0.81      0.82        70\n",
      "weighted avg       0.85      0.83      0.83        70\n",
      "\n"
     ]
    }
   ],
   "source": [
    "#Classification report\n",
    "target_names = ['Bishop','Knight','Pawn','Queen','Rook']\n",
    "class_report = classification_report(test_set_upd.classes, total_test, target_names=target_names)\n",
    "print(class_report)"
   ]
  },
  {
   "cell_type": "markdown",
   "id": "2587e094",
   "metadata": {},
   "source": [
    "# Implementation in ANN"
   ]
  },
  {
   "cell_type": "code",
   "execution_count": 144,
   "id": "200b5fb0",
   "metadata": {},
   "outputs": [],
   "source": [
    "model = tf.keras.models.Sequential([\n",
    "    tf.keras.layers.Flatten(input_shape=(224,224,3)),\n",
    "    tf.keras.layers.Dense(128, activation= 'relu'),\n",
    "    tf.keras.layers.Dropout(0.2),\n",
    "    tf.keras.layers.Dense(5, activation='softmax')\n",
    "    ])"
   ]
  },
  {
   "cell_type": "code",
   "execution_count": 145,
   "id": "b73d0feb",
   "metadata": {},
   "outputs": [],
   "source": [
    "folders = glob('tranformed_split_images_upd_1/train/*')"
   ]
  },
  {
   "cell_type": "code",
   "execution_count": 146,
   "id": "5679108f",
   "metadata": {},
   "outputs": [],
   "source": [
    "# our layers - you can add more if you want\n",
    "x = Flatten()(model.output)"
   ]
  },
  {
   "cell_type": "code",
   "execution_count": 147,
   "id": "86a1b1de",
   "metadata": {},
   "outputs": [],
   "source": [
    "prediction = Dense(len(folders), activation='softmax')(x)\n",
    "\n",
    "# create a model object\n",
    "model_ann = Model(inputs=model.input, outputs=prediction)"
   ]
  },
  {
   "cell_type": "code",
   "execution_count": 148,
   "id": "cd7c320e",
   "metadata": {},
   "outputs": [],
   "source": [
    "# Use the Image Data Generator to import the images from the dataset\n",
    "from tensorflow.keras.preprocessing.image import ImageDataGenerator\n",
    "\n",
    "train_datagen = ImageDataGenerator(rescale = 1./255,\n",
    "                                   horizontal_flip = True)\n",
    "\n",
    "test_datagen = ImageDataGenerator(rescale = 1./255)"
   ]
  },
  {
   "cell_type": "code",
   "execution_count": 149,
   "id": "c6590f48",
   "metadata": {},
   "outputs": [
    {
     "name": "stdout",
     "output_type": "stream",
     "text": [
      "Found 2534 images belonging to 5 classes.\n"
     ]
    }
   ],
   "source": [
    "# Make sure you provide the same target size as initialied for the image size\n",
    "training_set = train_datagen.flow_from_directory('tranformed_split_images_upd_1/train',\n",
    "                                                 target_size = (224,224),\n",
    "                                                 batch_size = 32,\n",
    "                                                 class_mode = 'categorical')"
   ]
  },
  {
   "cell_type": "code",
   "execution_count": 150,
   "id": "bfcc8a73",
   "metadata": {},
   "outputs": [
    {
     "name": "stdout",
     "output_type": "stream",
     "text": [
      "Found 128 images belonging to 5 classes.\n"
     ]
    }
   ],
   "source": [
    "test_set = test_datagen.flow_from_directory('tranformed_split_images_upd_1/val',\n",
    "                                            target_size = (224,224),\n",
    "                                            batch_size = 32,\n",
    "                                            class_mode = 'categorical')"
   ]
  },
  {
   "cell_type": "code",
   "execution_count": 151,
   "id": "cd39418c",
   "metadata": {},
   "outputs": [],
   "source": [
    "model_ann.compile(optimizer='adam',\n",
    "              loss='categorical_crossentropy',\n",
    "              metrics=['accuracy'])"
   ]
  },
  {
   "cell_type": "code",
   "execution_count": 152,
   "id": "6aa774ea",
   "metadata": {},
   "outputs": [
    {
     "name": "stdout",
     "output_type": "stream",
     "text": [
      "Epoch 1/20\n",
      "80/80 [==============================] - 5s 63ms/step - loss: 1.6562 - accuracy: 0.2092 - val_loss: 1.6457 - val_accuracy: 0.2109\n",
      "Epoch 2/20\n",
      "80/80 [==============================] - 5s 63ms/step - loss: 1.6268 - accuracy: 0.2151 - val_loss: 1.6169 - val_accuracy: 0.2109\n",
      "Epoch 3/20\n",
      "80/80 [==============================] - 5s 65ms/step - loss: 1.6054 - accuracy: 0.2163 - val_loss: 1.6000 - val_accuracy: 0.2109\n",
      "Epoch 4/20\n",
      "80/80 [==============================] - 4s 53ms/step - loss: 1.5934 - accuracy: 0.2163 - val_loss: 1.5911 - val_accuracy: 0.2109\n",
      "Epoch 5/20\n",
      "80/80 [==============================] - 4s 50ms/step - loss: 1.5870 - accuracy: 0.2352 - val_loss: 1.5867 - val_accuracy: 0.2656\n",
      "Epoch 6/20\n",
      "80/80 [==============================] - 4s 47ms/step - loss: 1.5841 - accuracy: 0.2672 - val_loss: 1.5838 - val_accuracy: 0.2656\n",
      "Epoch 7/20\n",
      "80/80 [==============================] - 5s 60ms/step - loss: 1.5823 - accuracy: 0.2668 - val_loss: 1.5827 - val_accuracy: 0.2656\n",
      "Epoch 8/20\n",
      "80/80 [==============================] - 6s 69ms/step - loss: 1.5811 - accuracy: 0.2672 - val_loss: 1.5822 - val_accuracy: 0.2656\n",
      "Epoch 9/20\n",
      "80/80 [==============================] - 7s 81ms/step - loss: 1.5808 - accuracy: 0.2676 - val_loss: 1.5818 - val_accuracy: 0.2656\n",
      "Epoch 10/20\n",
      "80/80 [==============================] - 4s 46ms/step - loss: 1.5805 - accuracy: 0.2672 - val_loss: 1.5815 - val_accuracy: 0.2656\n",
      "Epoch 11/20\n",
      "80/80 [==============================] - 4s 45ms/step - loss: 1.5803 - accuracy: 0.2676 - val_loss: 1.5815 - val_accuracy: 0.2656\n",
      "Epoch 12/20\n",
      "80/80 [==============================] - 4s 47ms/step - loss: 1.5803 - accuracy: 0.2672 - val_loss: 1.5814 - val_accuracy: 0.2656\n",
      "Epoch 13/20\n",
      "80/80 [==============================] - 4s 47ms/step - loss: 1.5802 - accuracy: 0.2672 - val_loss: 1.5814 - val_accuracy: 0.2656\n",
      "Epoch 14/20\n",
      "80/80 [==============================] - 4s 46ms/step - loss: 1.5803 - accuracy: 0.2672 - val_loss: 1.5813 - val_accuracy: 0.2656\n",
      "Epoch 15/20\n",
      "80/80 [==============================] - 4s 46ms/step - loss: 1.5801 - accuracy: 0.2672 - val_loss: 1.5814 - val_accuracy: 0.2656\n",
      "Epoch 16/20\n",
      "80/80 [==============================] - 4s 46ms/step - loss: 1.5797 - accuracy: 0.2672 - val_loss: 1.5813 - val_accuracy: 0.2656\n",
      "Epoch 17/20\n",
      "80/80 [==============================] - 4s 51ms/step - loss: 1.5798 - accuracy: 0.2672 - val_loss: 1.5813 - val_accuracy: 0.2656\n",
      "Epoch 18/20\n",
      "80/80 [==============================] - 4s 49ms/step - loss: 1.5798 - accuracy: 0.2668 - val_loss: 1.5813 - val_accuracy: 0.2656\n",
      "Epoch 19/20\n",
      "80/80 [==============================] - 4s 48ms/step - loss: 1.5800 - accuracy: 0.2672 - val_loss: 1.5813 - val_accuracy: 0.2656\n",
      "Epoch 20/20\n",
      "80/80 [==============================] - 4s 47ms/step - loss: 1.5796 - accuracy: 0.2672 - val_loss: 1.5813 - val_accuracy: 0.2656\n"
     ]
    }
   ],
   "source": [
    "r = model_ann.fit(\n",
    "  training_set,\n",
    "  validation_data=test_set,\n",
    "  epochs=20,\n",
    "  steps_per_epoch=len(training_set),\n",
    "  validation_steps=len(test_set),\n",
    ")"
   ]
  },
  {
   "cell_type": "code",
   "execution_count": 153,
   "id": "e64f2fd3",
   "metadata": {},
   "outputs": [
    {
     "data": {
      "image/png": "[encoded data removed]",
      "text/plain": [
       "<Figure size 432x288 with 1 Axes>"
      ]
     },
     "metadata": {
      "needs_background": "light"
     },
     "output_type": "display_data"
    },
    {
     "data": {
      "image/png": "[encoded data removed]",
      "text/plain": [
       "<Figure size 432x288 with 1 Axes>"
      ]
     },
     "metadata": {
      "needs_background": "light"
     },
     "output_type": "display_data"
    }
   ],
   "source": [
    "import matplotlib.pyplot as plt\n",
    "# plot the loss\n",
    "plt.plot(r.history['loss'], label='train loss')\n",
    "plt.plot(r.history['val_loss'], label='val loss')\n",
    "plt.legend()\n",
    "plt.show()\n",
    "\n",
    "\n",
    "# plot the accuracy\n",
    "plt.plot(r.history['accuracy'], label='train acc')\n",
    "plt.plot(r.history['val_accuracy'], label='val acc')\n",
    "plt.legend()\n",
    "plt.show()"
   ]
  },
  {
   "cell_type": "code",
   "execution_count": 154,
   "id": "c1c5c3ca",
   "metadata": {},
   "outputs": [],
   "source": [
    "from tensorflow.keras.models import load_model\n",
    "\n",
    "model_ann.save('model_ann.h5')"
   ]
  },
  {
   "cell_type": "code",
   "execution_count": 155,
   "id": "46d1b5db",
   "metadata": {},
   "outputs": [],
   "source": [
    "model=load_model('model_ann.h5')"
   ]
  },
  {
   "cell_type": "code",
   "execution_count": 156,
   "id": "32171640",
   "metadata": {},
   "outputs": [],
   "source": [
    "from tensorflow.keras.models import load_model\n",
    "from tensorflow.keras.preprocessing import image"
   ]
  },
  {
   "cell_type": "code",
   "execution_count": 157,
   "id": "a2a7d51e",
   "metadata": {
    "collapsed": true
   },
   "outputs": [
    {
     "name": "stdout",
     "output_type": "stream",
     "text": [
      "1/1 [==============================] - 0s 83ms/step\n",
      "1/1 [==============================] - 0s 18ms/step\n",
      "1/1 [==============================] - 0s 18ms/step\n",
      "1/1 [==============================] - 0s 18ms/step\n",
      "1/1 [==============================] - 0s 17ms/step\n",
      "1/1 [==============================] - 0s 18ms/step\n",
      "1/1 [==============================] - 0s 17ms/step\n",
      "1/1 [==============================] - 0s 18ms/step\n",
      "1/1 [==============================] - 0s 18ms/step\n",
      "1/1 [==============================] - 0s 17ms/step\n",
      "1/1 [==============================] - 0s 18ms/step\n",
      "1/1 [==============================] - 0s 18ms/step\n",
      "1/1 [==============================] - 0s 17ms/step\n",
      "1/1 [==============================] - 0s 20ms/step\n",
      "1/1 [==============================] - 0s 18ms/step\n",
      "1/1 [==============================] - 0s 19ms/step\n",
      "1/1 [==============================] - 0s 18ms/step\n",
      "1/1 [==============================] - 0s 18ms/step\n",
      "1/1 [==============================] - 0s 18ms/step\n",
      "1/1 [==============================] - 0s 18ms/step\n",
      "1/1 [==============================] - 0s 18ms/step\n",
      "1/1 [==============================] - 0s 18ms/step\n",
      "1/1 [==============================] - 0s 18ms/step\n",
      "1/1 [==============================] - 0s 18ms/step\n",
      "1/1 [==============================] - 0s 19ms/step\n",
      "1/1 [==============================] - 0s 18ms/step\n",
      "1/1 [==============================] - 0s 18ms/step\n",
      "1/1 [==============================] - 0s 18ms/step\n",
      "1/1 [==============================] - 0s 17ms/step\n",
      "1/1 [==============================] - 0s 19ms/step\n",
      "1/1 [==============================] - 0s 17ms/step\n",
      "1/1 [==============================] - 0s 20ms/step\n",
      "1/1 [==============================] - 0s 19ms/step\n",
      "1/1 [==============================] - 0s 22ms/step\n",
      "1/1 [==============================] - 0s 19ms/step\n",
      "1/1 [==============================] - 0s 21ms/step\n",
      "1/1 [==============================] - 0s 21ms/step\n",
      "1/1 [==============================] - 0s 18ms/step\n",
      "1/1 [==============================] - 0s 18ms/step\n",
      "1/1 [==============================] - 0s 17ms/step\n",
      "1/1 [==============================] - 0s 17ms/step\n",
      "1/1 [==============================] - 0s 18ms/step\n",
      "1/1 [==============================] - 0s 20ms/step\n",
      "1/1 [==============================] - 0s 18ms/step\n",
      "1/1 [==============================] - 0s 18ms/step\n",
      "1/1 [==============================] - 0s 18ms/step\n",
      "1/1 [==============================] - 0s 19ms/step\n",
      "1/1 [==============================] - 0s 19ms/step\n",
      "1/1 [==============================] - 0s 18ms/step\n",
      "1/1 [==============================] - 0s 19ms/step\n",
      "1/1 [==============================] - 0s 19ms/step\n",
      "1/1 [==============================] - 0s 39ms/step\n",
      "1/1 [==============================] - 0s 33ms/step\n",
      "1/1 [==============================] - 0s 20ms/step\n",
      "1/1 [==============================] - 0s 23ms/step\n",
      "1/1 [==============================] - 0s 36ms/step\n",
      "1/1 [==============================] - 0s 19ms/step\n",
      "1/1 [==============================] - 0s 18ms/step\n",
      "1/1 [==============================] - 0s 18ms/step\n",
      "1/1 [==============================] - 0s 17ms/step\n",
      "1/1 [==============================] - 0s 18ms/step\n",
      "1/1 [==============================] - 0s 19ms/step\n",
      "1/1 [==============================] - 0s 17ms/step\n",
      "1/1 [==============================] - 0s 29ms/step\n",
      "1/1 [==============================] - 0s 27ms/step\n",
      "1/1 [==============================] - 0s 28ms/step\n",
      "1/1 [==============================] - 0s 32ms/step\n",
      "1/1 [==============================] - 0s 29ms/step\n",
      "1/1 [==============================] - 0s 26ms/step\n",
      "1/1 [==============================] - 0s 20ms/step\n",
      "1/1 [==============================] - 0s 26ms/step\n",
      "1/1 [==============================] - 0s 27ms/step\n",
      "1/1 [==============================] - 0s 19ms/step\n",
      "1/1 [==============================] - 0s 17ms/step\n",
      "1/1 [==============================] - 0s 18ms/step\n",
      "1/1 [==============================] - 0s 18ms/step\n",
      "1/1 [==============================] - 0s 18ms/step\n",
      "1/1 [==============================] - 0s 18ms/step\n",
      "1/1 [==============================] - 0s 17ms/step\n",
      "1/1 [==============================] - 0s 18ms/step\n",
      "1/1 [==============================] - 0s 19ms/step\n",
      "1/1 [==============================] - 0s 25ms/step\n",
      "1/1 [==============================] - 0s 27ms/step\n",
      "1/1 [==============================] - 0s 26ms/step\n",
      "1/1 [==============================] - 0s 30ms/step\n",
      "1/1 [==============================] - 0s 26ms/step\n",
      "1/1 [==============================] - 0s 26ms/step\n",
      "1/1 [==============================] - 0s 30ms/step\n",
      "1/1 [==============================] - 0s 30ms/step\n",
      "1/1 [==============================] - 0s 29ms/step\n",
      "1/1 [==============================] - 0s 21ms/step\n",
      "1/1 [==============================] - 0s 17ms/step\n",
      "1/1 [==============================] - 0s 18ms/step\n",
      "1/1 [==============================] - 0s 19ms/step\n",
      "1/1 [==============================] - 0s 23ms/step\n",
      "1/1 [==============================] - 0s 30ms/step\n",
      "1/1 [==============================] - 0s 31ms/step\n",
      "1/1 [==============================] - 0s 28ms/step\n",
      "1/1 [==============================] - 0s 18ms/step\n",
      "1/1 [==============================] - 0s 18ms/step\n",
      "1/1 [==============================] - 0s 17ms/step\n",
      "1/1 [==============================] - 0s 18ms/step\n",
      "1/1 [==============================] - 0s 17ms/step\n",
      "1/1 [==============================] - 0s 18ms/step\n",
      "1/1 [==============================] - 0s 18ms/step\n",
      "1/1 [==============================] - 0s 20ms/step\n",
      "1/1 [==============================] - 0s 20ms/step\n",
      "1/1 [==============================] - 0s 33ms/step\n",
      "1/1 [==============================] - 0s 29ms/step\n",
      "1/1 [==============================] - 0s 26ms/step\n",
      "1/1 [==============================] - 0s 27ms/step\n",
      "1/1 [==============================] - 0s 32ms/step\n",
      "1/1 [==============================] - 0s 24ms/step\n",
      "1/1 [==============================] - 0s 30ms/step\n",
      "1/1 [==============================] - 0s 31ms/step\n",
      "1/1 [==============================] - 0s 36ms/step\n",
      "1/1 [==============================] - 0s 29ms/step\n",
      "1/1 [==============================] - 0s 27ms/step\n",
      "1/1 [==============================] - 0s 25ms/step\n",
      "1/1 [==============================] - 0s 31ms/step\n",
      "1/1 [==============================] - 0s 27ms/step\n",
      "1/1 [==============================] - 0s 27ms/step\n",
      "1/1 [==============================] - 0s 29ms/step\n",
      "1/1 [==============================] - 0s 32ms/step\n",
      "1/1 [==============================] - 0s 27ms/step\n",
      "1/1 [==============================] - 0s 27ms/step\n",
      "1/1 [==============================] - 0s 27ms/step\n",
      "1/1 [==============================] - 0s 28ms/step\n",
      "1/1 [==============================] - 0s 25ms/step\n",
      "1/1 [==============================] - 0s 28ms/step\n",
      "1/1 [==============================] - 0s 27ms/step\n",
      "1/1 [==============================] - 0s 29ms/step\n",
      "1/1 [==============================] - 0s 29ms/step\n",
      "1/1 [==============================] - 0s 31ms/step\n",
      "1/1 [==============================] - 0s 28ms/step\n",
      "1/1 [==============================] - 0s 29ms/step\n",
      "1/1 [==============================] - 0s 23ms/step\n",
      "1/1 [==============================] - 0s 25ms/step\n",
      "1/1 [==============================] - 0s 26ms/step\n",
      "1/1 [==============================] - 0s 28ms/step\n"
     ]
    }
   ],
   "source": [
    "bishop_resize=[]\n",
    "for files in os.listdir(\"C:/Users/RUPAK/OneDrive/Desktop/Assignment/tranformed_split_images_upd_1/test/bishop_resized\"):\n",
    "    #print(files)\n",
    "    img=image.load_img('C:/Users/RUPAK/OneDrive/Desktop/Assignment/tranformed_split_images_upd_1/test/bishop_resized/'+files,target_size=(224,224))\n",
    "    x=image.img_to_array(img)\n",
    "    x=np.expand_dims(x,axis=0)\n",
    "    img_data=preprocess_input(x)\n",
    "    model.predict(img_data)\n",
    "    a=np.argmax(model.predict(img_data), axis=1)\n",
    "    bishop_resize.append(a)\n",
    "\n",
    "knight_resize=[]\n",
    "for files in os.listdir(\"C:/Users/RUPAK/OneDrive/Desktop/Assignment/tranformed_split_images_upd_1/test/knight_resize\"):\n",
    "    #print(files)\n",
    "    img=image.load_img('C:/Users/RUPAK/OneDrive/Desktop/Assignment/tranformed_split_images_upd_1/test/knight_resize/'+files,target_size=(224,224))\n",
    "    x=image.img_to_array(img)\n",
    "    x=np.expand_dims(x,axis=0)\n",
    "    img_data=preprocess_input(x)\n",
    "    model.predict(img_data)\n",
    "    a=np.argmax(model.predict(img_data), axis=1)\n",
    "    knight_resize.append(a)\n",
    "    \n",
    "pawn_resize=[]\n",
    "for files in os.listdir(\"C:/Users/RUPAK/OneDrive/Desktop/Assignment/tranformed_split_images_upd_1/test/pawn_resized\"):\n",
    "    #print(files)\n",
    "    img=image.load_img('C:/Users/RUPAK/OneDrive/Desktop/Assignment/tranformed_split_images_upd_1/test/pawn_resized/'+files,target_size=(224,224))\n",
    "    x=image.img_to_array(img)\n",
    "    x=np.expand_dims(x,axis=0)\n",
    "    img_data=preprocess_input(x)\n",
    "    model.predict(img_data)\n",
    "    a=np.argmax(model.predict(img_data), axis=1)\n",
    "    pawn_resize.append(a)\n",
    "    \n",
    "    \n",
    "queen_resized=[]\n",
    "for files in os.listdir(\"C:/Users/RUPAK/OneDrive/Desktop/Assignment/tranformed_split_images_upd_1/test/queen_resized\"):\n",
    "    #print(files)\n",
    "    img=image.load_img('C:/Users/RUPAK/OneDrive/Desktop/Assignment/tranformed_split_images_upd_1/test/queen_resized/'+files,target_size=(224,224))\n",
    "    x=image.img_to_array(img)\n",
    "    x=np.expand_dims(x,axis=0)\n",
    "    img_data=preprocess_input(x)\n",
    "    model.predict(img_data)\n",
    "    a=np.argmax(model.predict(img_data), axis=1)\n",
    "    queen_resized.append(a)\n",
    "    \n",
    "rook_resize=[]\n",
    "for files in os.listdir(\"C:/Users/RUPAK/OneDrive/Desktop/Assignment/tranformed_split_images_upd_1/test/rook_resize\"):\n",
    "    #print(files)\n",
    "    img=image.load_img('C:/Users/RUPAK/OneDrive/Desktop/Assignment/tranformed_split_images_upd_1/test/rook_resize/'+files,target_size=(224,224))\n",
    "    x=image.img_to_array(img)\n",
    "    x=np.expand_dims(x,axis=0)\n",
    "    img_data=preprocess_input(x)\n",
    "    model.predict(img_data)\n",
    "    a=np.argmax(model.predict(img_data), axis=1)\n",
    "    rook_resize.append(a)"
   ]
  },
  {
   "cell_type": "code",
   "execution_count": 162,
   "id": "4d826f57",
   "metadata": {},
   "outputs": [
    {
     "data": {
      "text/plain": [
       "[array([1], dtype=int64),\n",
       " array([1], dtype=int64),\n",
       " array([1], dtype=int64),\n",
       " array([1], dtype=int64),\n",
       " array([1], dtype=int64),\n",
       " array([1], dtype=int64),\n",
       " array([1], dtype=int64),\n",
       " array([1], dtype=int64),\n",
       " array([1], dtype=int64),\n",
       " array([1], dtype=int64),\n",
       " array([1], dtype=int64),\n",
       " array([1], dtype=int64),\n",
       " array([1], dtype=int64),\n",
       " array([1], dtype=int64),\n",
       " array([1], dtype=int64)]"
      ]
     },
     "execution_count": 162,
     "metadata": {},
     "output_type": "execute_result"
    }
   ],
   "source": [
    "rook_resize"
   ]
  },
  {
   "cell_type": "code",
   "execution_count": 163,
   "id": "d5c3f128",
   "metadata": {},
   "outputs": [
    {
     "data": {
      "text/plain": [
       "70"
      ]
     },
     "execution_count": 163,
     "metadata": {},
     "output_type": "execute_result"
    }
   ],
   "source": [
    "total_test = [1,1,1,1,1,0,1,1,1,1,1,1,1,1,1,1,1,1,1,1,1,1,1,0,1,1,1,1,0,0,0,1,1,1,1,1,1,1,1,1,1,1,0, 1,1,1,1,1,0,1,1,1,1,1,1, 1,1,1,1,1,1,1,1,1,1,1,1,1,1,1]\n",
    "\n",
    "len(total_test)"
   ]
  },
  {
   "cell_type": "code",
   "execution_count": 164,
   "id": "f36b5a67",
   "metadata": {},
   "outputs": [
    {
     "data": {
      "text/plain": [
       "0.22857142857142856"
      ]
     },
     "execution_count": 164,
     "metadata": {},
     "output_type": "execute_result"
    }
   ],
   "source": [
    "#Printing the accuracy score\n",
    "accuracy_score(test_set_upd.classes,total_test)"
   ]
  },
  {
   "cell_type": "code",
   "execution_count": 165,
   "id": "1eb5b530",
   "metadata": {},
   "outputs": [
    {
     "name": "stdout",
     "output_type": "stream",
     "text": [
      "              precision    recall  f1-score   support\n",
      "\n",
      "      Bishop       0.14      0.07      0.09        15\n",
      "      Knight       0.24      0.79      0.37        19\n",
      "        Pawn       0.00      0.00      0.00         9\n",
      "       Queen       0.00      0.00      0.00        12\n",
      "        Rook       0.00      0.00      0.00        15\n",
      "\n",
      "    accuracy                           0.23        70\n",
      "   macro avg       0.08      0.17      0.09        70\n",
      "weighted avg       0.10      0.23      0.12        70\n",
      "\n"
     ]
    },
    {
     "name": "stderr",
     "output_type": "stream",
     "text": [
      "C:\\Users\\RUPAK\\Anaconda3\\lib\\site-packages\\sklearn\\metrics\\_classification.py:1334: UndefinedMetricWarning: Precision and F-score are ill-defined and being set to 0.0 in labels with no predicted samples. Use `zero_division` parameter to control this behavior.\n",
      "  _warn_prf(average, modifier, msg_start, len(result))\n",
      "C:\\Users\\RUPAK\\Anaconda3\\lib\\site-packages\\sklearn\\metrics\\_classification.py:1334: UndefinedMetricWarning: Precision and F-score are ill-defined and being set to 0.0 in labels with no predicted samples. Use `zero_division` parameter to control this behavior.\n",
      "  _warn_prf(average, modifier, msg_start, len(result))\n",
      "C:\\Users\\RUPAK\\Anaconda3\\lib\\site-packages\\sklearn\\metrics\\_classification.py:1334: UndefinedMetricWarning: Precision and F-score are ill-defined and being set to 0.0 in labels with no predicted samples. Use `zero_division` parameter to control this behavior.\n",
      "  _warn_prf(average, modifier, msg_start, len(result))\n"
     ]
    }
   ],
   "source": [
    "#Classification report\n",
    "target_names = ['Bishop','Knight','Pawn','Queen','Rook']\n",
    "class_report = classification_report(test_set_upd.classes, total_test, target_names=target_names)\n",
    "print(class_report)"
   ]
  },
  {
   "cell_type": "markdown",
   "id": "8cb12d65",
   "metadata": {},
   "source": [
    "Conclusion :\n",
    "    As per the comparison VGG16 stands out to be the best model among all for this data with a train and test accuracy of more than 90 percent.\n",
    "    Followed by that VGG19 and inception which is coming around 80 percent."
   ]
  },
  {
   "cell_type": "code",
   "execution_count": null,
   "id": "e11c0c56",
   "metadata": {},
   "outputs": [],
   "source": []
  }
 ],
 "metadata": {
  "kernelspec": {
   "display_name": "Python 3",
   "language": "python",
   "name": "python3"
  },
  "language_info": {
   "codemirror_mode": {
    "name": "ipython",
    "version": 3
   },
   "file_extension": ".py",
   "mimetype": "text/x-python",
   "name": "python",
   "nbconvert_exporter": "python",
   "pygments_lexer": "ipython3",
   "version": "3.8.8"
  },
  "vscode": {
   "interpreter": {
    "hash": "811698a81bd3cc4d100aabbbb0a08822a737869beb4b0d1e8667f6811ef17015"
   }
  }
 },
 "nbformat": 4,
 "nbformat_minor": 5
}
